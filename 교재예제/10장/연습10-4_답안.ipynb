{
  "nbformat": 4,
  "nbformat_minor": 0,
  "metadata": {
    "colab": {
      "provenance": []
    },
    "kernelspec": {
      "name": "python3",
      "display_name": "Python 3"
    },
    "language_info": {
      "name": "python"
    }
  },
  "cells": [
    {
      "cell_type": "code",
      "execution_count": null,
      "metadata": {
        "colab": {
          "base_uri": "https://localhost:8080/"
        },
        "id": "kWKAGhlZTUFq",
        "outputId": "4e45e540-7a8e-4fb1-d721-9bd5e1f800f6"
      },
      "outputs": [
        {
          "output_type": "stream",
          "name": "stdout",
          "text": [
            "           dt  AverageTemperature     City Latitude Longitude\n",
            "0  1849-01-01              26.704  Abidjan    5.63N     3.23W\n",
            "1  1849-02-01              27.434  Abidjan    5.63N     3.23W\n",
            "2  1849-03-01              28.101  Abidjan    5.63N     3.23W\n",
            "3  1849-04-01              26.140  Abidjan    5.63N     3.23W\n",
            "4  1849-05-01              25.427  Abidjan    5.63N     3.23W\n"
          ]
        }
      ],
      "source": [
        "import pandas as pd\n",
        "import matplotlib.pyplot as plt\n",
        "# 데이터셋 불러오기\n",
        "df = pd.read_csv('/content/연습문제08-4.csv')\n",
        "print(df.head())\n"
      ]
    },
    {
      "cell_type": "code",
      "source": [
        "# 'dt' 컬럼의 데이터 타입 변경\n",
        "df['dt'] = pd.to_datetime(df['dt'])\n",
        "print(df.info())\n"
      ],
      "metadata": {
        "colab": {
          "base_uri": "https://localhost:8080/"
        },
        "id": "Hzo97RoubXe1",
        "outputId": "033e043f-666b-4ed4-feae-f701c23a3d22"
      },
      "execution_count": null,
      "outputs": [
        {
          "output_type": "stream",
          "name": "stdout",
          "text": [
            "<class 'pandas.core.frame.DataFrame'>\n",
            "RangeIndex: 239177 entries, 0 to 239176\n",
            "Data columns (total 5 columns):\n",
            " #   Column              Non-Null Count   Dtype         \n",
            "---  ------              --------------   -----         \n",
            " 0   dt                  239177 non-null  datetime64[ns]\n",
            " 1   AverageTemperature  228175 non-null  float64       \n",
            " 2   City                239177 non-null  object        \n",
            " 3   Latitude            239177 non-null  object        \n",
            " 4   Longitude           239177 non-null  object        \n",
            "dtypes: datetime64[ns](1), float64(1), object(3)\n",
            "memory usage: 9.1+ MB\n",
            "None\n"
          ]
        }
      ]
    },
    {
      "cell_type": "code",
      "source": [
        "# 'City' 컬럼의 결측값 대체\n",
        "print(df.isnull().sum())\n",
        "df[['City']] = df[['City']].fillna(df.mode().iloc[0])\n",
        "print(df.isnull().sum())\n"
      ],
      "metadata": {
        "colab": {
          "base_uri": "https://localhost:8080/"
        },
        "id": "9GknyU8DcCHC",
        "outputId": "e0536434-2819-4295-9536-c50160fef811"
      },
      "execution_count": null,
      "outputs": [
        {
          "output_type": "stream",
          "name": "stdout",
          "text": [
            "dt                        0\n",
            "AverageTemperature    11002\n",
            "City                      0\n",
            "Latitude                  0\n",
            "Longitude                 0\n",
            "dtype: int64\n",
            "dt                        0\n",
            "AverageTemperature    11002\n",
            "City                      0\n",
            "Latitude                  0\n",
            "Longitude                 0\n",
            "dtype: int64\n"
          ]
        }
      ]
    },
    {
      "cell_type": "code",
      "source": [
        "\n",
        "\n",
        "# 'AverageTemperature' 컬럼의 결측값 대체\n",
        "df['AverageTemperature'] = df['AverageTemperature'].fillna(df['AverageTemperature'].mean())\n",
        "\n",
        "# 'AverageTemperature' 컬럼에서 이상치 확인\n",
        "plt.boxplot(df.AverageTemperature)\n",
        "\n",
        "# 'AverageTemperature' 컬럼에서 이상치 제거\n",
        "df=df[df.AverageTemperature>-2]"
      ],
      "metadata": {
        "colab": {
          "base_uri": "https://localhost:8080/",
          "height": 265
        },
        "id": "8u9zUjZYcmtX",
        "outputId": "e5ad6581-4d6d-402d-d2ab-ce56fc66304a"
      },
      "execution_count": null,
      "outputs": [
        {
          "output_type": "display_data",
          "data": {
            "text/plain": [
              "<Figure size 432x288 with 1 Axes>"
            ],
            "image/png": "[encoded data removed]"
          },
          "metadata": {
            "needs_background": "light"
          }
        }
      ]
    },
    {
      "cell_type": "code",
      "source": [
        "# 'AverageTemperature' 컬럼에서 이상치 다시 확인\n",
        "plt.boxplot(df.AverageTemperature)"
      ],
      "metadata": {
        "colab": {
          "base_uri": "https://localhost:8080/",
          "height": 416
        },
        "id": "Dqv-YB9CZmWg",
        "outputId": "c0410abd-f938-4a47-82ce-9e7820ab5d22"
      },
      "execution_count": null,
      "outputs": [
        {
          "output_type": "execute_result",
          "data": {
            "text/plain": [
              "{'whiskers': [<matplotlib.lines.Line2D at 0x7fb707fa6820>,\n",
              "  <matplotlib.lines.Line2D at 0x7fb707fa6f40>],\n",
              " 'caps': [<matplotlib.lines.Line2D at 0x7fb707fa6dc0>,\n",
              "  <matplotlib.lines.Line2D at 0x7fb732252220>],\n",
              " 'boxes': [<matplotlib.lines.Line2D at 0x7fb70c06ac40>],\n",
              " 'medians': [<matplotlib.lines.Line2D at 0x7fb70c03faf0>],\n",
              " 'fliers': [<matplotlib.lines.Line2D at 0x7fb70c03fa30>],\n",
              " 'means': []}"
            ]
          },
          "metadata": {},
          "execution_count": 11
        },
        {
          "output_type": "display_data",
          "data": {
            "text/plain": [
              "<Figure size 432x288 with 1 Axes>"
            ],
            "image/png": "[encoded data removed]"
          },
          "metadata": {
            "needs_background": "light"
          }
        }
      ]
    },
    {
      "cell_type": "code",
      "source": [
        "# 'dt' 컬럼에서 년도, 월, 일자 데이터 추출하여 새로운 컬럼 추가\n",
        "df['Year'] = df['dt'].dt.year\n",
        "df['Month'] = df['dt'].dt.month\n",
        "df['Day'] = df['dt'].dt.day\n",
        "\n",
        "print(df.head())"
      ],
      "metadata": {
        "colab": {
          "base_uri": "https://localhost:8080/"
        },
        "id": "WCSe3Ns3ZTHa",
        "outputId": "1b550186-65f0-4ced-e486-12f5ebc2a69a"
      },
      "execution_count": null,
      "outputs": [
        {
          "output_type": "stream",
          "name": "stdout",
          "text": [
            "          dt  AverageTemperature     City Latitude Longitude  Year  Month  Day\n",
            "0 1849-01-01              26.704  Abidjan    5.63N     3.23W  1849      1    1\n",
            "1 1849-02-01              27.434  Abidjan    5.63N     3.23W  1849      2    1\n",
            "2 1849-03-01              28.101  Abidjan    5.63N     3.23W  1849      3    1\n",
            "3 1849-04-01              26.140  Abidjan    5.63N     3.23W  1849      4    1\n",
            "4 1849-05-01              25.427  Abidjan    5.63N     3.23W  1849      5    1\n"
          ]
        },
        {
          "output_type": "stream",
          "name": "stderr",
          "text": [
            "<ipython-input-25-7814c5740354>:2: SettingWithCopyWarning: \n",
            "A value is trying to be set on a copy of a slice from a DataFrame.\n",
            "Try using .loc[row_indexer,col_indexer] = value instead\n",
            "\n",
            "See the caveats in the documentation: https://pandas.pydata.org/pandas-docs/stable/user_guide/indexing.html#returning-a-view-versus-a-copy\n",
            "  df['Year'] = df['dt'].dt.year\n",
            "<ipython-input-25-7814c5740354>:3: SettingWithCopyWarning: \n",
            "A value is trying to be set on a copy of a slice from a DataFrame.\n",
            "Try using .loc[row_indexer,col_indexer] = value instead\n",
            "\n",
            "See the caveats in the documentation: https://pandas.pydata.org/pandas-docs/stable/user_guide/indexing.html#returning-a-view-versus-a-copy\n",
            "  df['Month'] = df['dt'].dt.month\n",
            "<ipython-input-25-7814c5740354>:4: SettingWithCopyWarning: \n",
            "A value is trying to be set on a copy of a slice from a DataFrame.\n",
            "Try using .loc[row_indexer,col_indexer] = value instead\n",
            "\n",
            "See the caveats in the documentation: https://pandas.pydata.org/pandas-docs/stable/user_guide/indexing.html#returning-a-view-versus-a-copy\n",
            "  df['Day'] = df['dt'].dt.day\n"
          ]
        }
      ]
    }
  ]
}
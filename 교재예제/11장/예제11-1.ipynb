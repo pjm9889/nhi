{
  "nbformat": 4,
  "nbformat_minor": 0,
  "metadata": {
    "colab": {
      "provenance": []
    },
    "kernelspec": {
      "name": "python3",
      "display_name": "Python 3"
    },
    "language_info": {
      "name": "python"
    }
  },
  "cells": [
    {
      "cell_type": "markdown",
      "source": [
        "본문예제11-01"
      ],
      "metadata": {
        "id": "vXSx4def-F9c"
      }
    },
    {
      "cell_type": "code",
      "execution_count": 9,
      "metadata": {
        "colab": {
          "base_uri": "https://localhost:8080/"
        },
        "id": "kb4EgnBl2AiL",
        "outputId": "aa3fe304-962f-4ba9-82ce-04f6df5a2ce4"
      },
      "outputs": [
        {
          "output_type": "stream",
          "name": "stdout",
          "text": [
            "<class 'pandas.core.frame.DataFrame'>\n",
            "RangeIndex: 3 entries, 0 to 2\n",
            "Data columns (total 2 columns):\n",
            " #   Column  Non-Null Count  Dtype \n",
            "---  ------  --------------  ----- \n",
            " 0   date    3 non-null      object\n",
            " 1   name    3 non-null      object\n",
            "dtypes: object(2)\n",
            "memory usage: 176.0+ bytes\n",
            "None\n"
          ]
        }
      ],
      "source": [
        "import pandas as pd\n",
        "d=pd.DataFrame({'date':['2019-01-03', '2021-11-22', '2023-01-05'],\n",
        "'name':['J', 'Y', 'O']})\n",
        "print(d.info())\n"
      ]
    },
    {
      "cell_type": "markdown",
      "source": [
        "본문예제11-02"
      ],
      "metadata": {
        "id": "HhtNo5lm-Dvw"
      }
    },
    {
      "cell_type": "code",
      "source": [
        "d['date']=pd.to_datetime(d.date,format='%Y-%m-%d')\n",
        "print(d.info())"
      ],
      "metadata": {
        "colab": {
          "base_uri": "https://localhost:8080/"
        },
        "id": "sPt1pHTX2m6M",
        "outputId": "28535f8d-8eac-4b2a-e249-46c210ff1328"
      },
      "execution_count": 10,
      "outputs": [
        {
          "output_type": "stream",
          "name": "stdout",
          "text": [
            "<class 'pandas.core.frame.DataFrame'>\n",
            "RangeIndex: 3 entries, 0 to 2\n",
            "Data columns (total 2 columns):\n",
            " #   Column  Non-Null Count  Dtype         \n",
            "---  ------  --------------  -----         \n",
            " 0   date    3 non-null      datetime64[ns]\n",
            " 1   name    3 non-null      object        \n",
            "dtypes: datetime64[ns](1), object(1)\n",
            "memory usage: 176.0+ bytes\n",
            "None\n"
          ]
        }
      ]
    },
    {
      "cell_type": "markdown",
      "source": [
        "본문예제11-03"
      ],
      "metadata": {
        "id": "oTa2mabQ-K2i"
      }
    },
    {
      "cell_type": "code",
      "source": [
        "d.set_index(keys=['date'],inplace=True)\n",
        "print(d.info())"
      ],
      "metadata": {
        "colab": {
          "base_uri": "https://localhost:8080/"
        },
        "id": "p2AeKZTg2xMC",
        "outputId": "2a88a661-a6ff-4539-e503-aeaa014d2eff"
      },
      "execution_count": 11,
      "outputs": [
        {
          "output_type": "stream",
          "name": "stdout",
          "text": [
            "<class 'pandas.core.frame.DataFrame'>\n",
            "DatetimeIndex: 3 entries, 2019-01-03 to 2023-01-05\n",
            "Data columns (total 1 columns):\n",
            " #   Column  Non-Null Count  Dtype \n",
            "---  ------  --------------  ----- \n",
            " 0   name    3 non-null      object\n",
            "dtypes: object(1)\n",
            "memory usage: 48.0+ bytes\n",
            "None\n"
          ]
        }
      ]
    },
    {
      "cell_type": "markdown",
      "source": [
        "본문예제11-04"
      ],
      "metadata": {
        "id": "rano4Z-R9scU"
      }
    },
    {
      "cell_type": "code",
      "source": [
        "import numpy as np\n",
        "d=pd.DataFrame({'date':['2019-01-03', '2021-11-22','2021-12-01','2023-01-05'],\n",
        "'x1':[0.1,2.0,np.nan,1.2]})\n",
        "d['date']=pd.to_datetime(d.date,format='%Y-%m-%d')\n",
        "d.set_index(keys=['date'],inplace=True)\n",
        "print(d.isnull().sum())\n",
        "print(d)"
      ],
      "metadata": {
        "colab": {
          "base_uri": "https://localhost:8080/"
        },
        "id": "312r_zie39WC",
        "outputId": "25c86116-56c2-454d-832e-1bcc8fe987a1"
      },
      "execution_count": 13,
      "outputs": [
        {
          "output_type": "stream",
          "name": "stdout",
          "text": [
            "x1    1\n",
            "dtype: int64\n",
            "             x1\n",
            "date           \n",
            "2019-01-03  0.1\n",
            "2021-11-22  2.0\n",
            "2021-12-01  NaN\n",
            "2023-01-05  1.2\n"
          ]
        }
      ]
    },
    {
      "cell_type": "markdown",
      "source": [
        "본문예제11-05"
      ],
      "metadata": {
        "id": "fPhR4YZg9nTZ"
      }
    },
    {
      "cell_type": "code",
      "source": [
        "d=d.fillna(method='ffill')\n",
        "print('=='*10)\n",
        "print(d)"
      ],
      "metadata": {
        "colab": {
          "base_uri": "https://localhost:8080/"
        },
        "id": "BXn_Gvwx5uN_",
        "outputId": "eec0f3b9-2a06-4deb-8c1a-911ce1d28c36"
      },
      "execution_count": 14,
      "outputs": [
        {
          "output_type": "stream",
          "name": "stdout",
          "text": [
            "====================\n",
            "             x1\n",
            "date           \n",
            "2019-01-03  0.1\n",
            "2021-11-22  2.0\n",
            "2021-12-01  2.0\n",
            "2023-01-05  1.2\n"
          ]
        }
      ]
    },
    {
      "cell_type": "markdown",
      "source": [
        "본문예제11-06"
      ],
      "metadata": {
        "id": "NEMLcVnx9g0z"
      }
    },
    {
      "cell_type": "code",
      "source": [
        "import numpy as np\n",
        "d=pd.DataFrame({'date':['2019-01-03', '2021-11-22','2021-12-01','2023-01-05'],\n",
        "'x1':[0.1,2.0,np.nan,1.2]})\n",
        "d['date']=pd.to_datetime(d.date,format='%Y-%m-%d')\n",
        "d.set_index(keys=['date'],inplace=True)\n",
        "print(d.isnull().sum())\n",
        "print(d)\n",
        "d=d.dropna()\n",
        "print(d)"
      ],
      "metadata": {
        "colab": {
          "base_uri": "https://localhost:8080/"
        },
        "id": "bHQh8iIH6Iob",
        "outputId": "570a6e2d-147b-45a2-f536-de32e9e88274"
      },
      "execution_count": 15,
      "outputs": [
        {
          "output_type": "stream",
          "name": "stdout",
          "text": [
            "x1    1\n",
            "dtype: int64\n",
            "             x1\n",
            "date           \n",
            "2019-01-03  0.1\n",
            "2021-11-22  2.0\n",
            "2021-12-01  NaN\n",
            "2023-01-05  1.2\n",
            "             x1\n",
            "date           \n",
            "2019-01-03  0.1\n",
            "2021-11-22  2.0\n",
            "2023-01-05  1.2\n"
          ]
        }
      ]
    },
    {
      "cell_type": "markdown",
      "source": [
        "본문예제 11-07"
      ],
      "metadata": {
        "id": "Q4oa9b1c9aRj"
      }
    },
    {
      "cell_type": "code",
      "source": [
        "import numpy as np\n",
        "d=pd.DataFrame({'date':['2019-01-03', '2021-11-22','2021-12-01','2023-01-05'],\n",
        "'x1':[0.1,2.0,np.nan,1.2]})\n",
        "d['date']=pd.to_datetime(d.date,format='%Y-%m-%d')\n",
        "d.set_index(keys=['date'],inplace=True)\n",
        "print(d)\n",
        "d=d.interpolate()\n",
        "print(d)"
      ],
      "metadata": {
        "colab": {
          "base_uri": "https://localhost:8080/"
        },
        "id": "m4_N1LDe642O",
        "outputId": "f04d5f2c-a302-4057-a7a3-680f12f5ddaf"
      },
      "execution_count": 16,
      "outputs": [
        {
          "output_type": "stream",
          "name": "stdout",
          "text": [
            "             x1\n",
            "date           \n",
            "2019-01-03  0.1\n",
            "2021-11-22  2.0\n",
            "2021-12-01  NaN\n",
            "2023-01-05  1.2\n",
            "             x1\n",
            "date           \n",
            "2019-01-03  0.1\n",
            "2021-11-22  2.0\n",
            "2021-12-01  1.6\n",
            "2023-01-05  1.2\n"
          ]
        }
      ]
    },
    {
      "cell_type": "markdown",
      "source": [
        "본문예제11-08"
      ],
      "metadata": {
        "id": "AsFdTpxX-NsP"
      }
    },
    {
      "cell_type": "code",
      "source": [
        "import numpy as np\n",
        "d=pd.DataFrame({'date':['2019-01-03', '2021-11-22','2021-12-01','2023-01-05'],\n",
        "'x1':[0.1,2.0,1.6,1.2]})\n",
        "d['date']=pd.to_datetime(d.date,format='%Y-%m-%d')\n",
        "d.set_index(keys=['date'],inplace=True)\n",
        "#인덱스 속성 확인\n",
        "print(d.index)"
      ],
      "metadata": {
        "colab": {
          "base_uri": "https://localhost:8080/"
        },
        "id": "30x0oSk2-M5O",
        "outputId": "f9a2e2c9-c5e5-4e96-88a4-80e870a9c99e"
      },
      "execution_count": 20,
      "outputs": [
        {
          "output_type": "stream",
          "name": "stdout",
          "text": [
            "DatetimeIndex(['2019-01-03', '2021-11-22', '2021-12-01', '2023-01-05'], dtype='datetime64[ns]', name='date', freq=None)\n"
          ]
        }
      ]
    },
    {
      "cell_type": "markdown",
      "source": [
        "본문예제11-09"
      ],
      "metadata": {
        "id": "QnafzREs_BvG"
      }
    },
    {
      "cell_type": "code",
      "source": [
        "print(d)\n",
        "d2=d.asfreq('Y', method='ffill') #‘Y’ 매년 마지막 일\n",
        "print(d2) # 설정한 주기로 생성된 데이터\n"
      ],
      "metadata": {
        "colab": {
          "base_uri": "https://localhost:8080/"
        },
        "id": "OnMxZk4N_EmI",
        "outputId": "b7879108-dc30-41aa-caf3-40e0f1a17687"
      },
      "execution_count": 21,
      "outputs": [
        {
          "output_type": "stream",
          "name": "stdout",
          "text": [
            "             x1\n",
            "date           \n",
            "2019-01-03  0.1\n",
            "2021-11-22  2.0\n",
            "2021-12-01  1.6\n",
            "2023-01-05  1.2\n",
            "             x1\n",
            "date           \n",
            "2019-12-31  0.1\n",
            "2020-12-31  0.1\n",
            "2021-12-31  1.6\n",
            "2022-12-31  1.6\n"
          ]
        }
      ]
    },
    {
      "cell_type": "markdown",
      "source": [
        "본문예제11-10"
      ],
      "metadata": {
        "id": "KtnUSqxG__6C"
      }
    },
    {
      "cell_type": "code",
      "source": [
        "import numpy as np\n",
        "d=pd.DataFrame({'date':['2021-01-06', '2021-01-13', '2021-01-20', '2021-01-27', '2021-02-03'],\n",
        "'x1':[5,4,3,2,7]})\n",
        "d['date']=pd.to_datetime(d.date)\n",
        "d.set_index(keys=['date'],inplace=True)\n",
        "print(\"원본\")\n",
        "print('=='*20)\n",
        "print(d)\n",
        "print('=='*20)\n",
        "tmp=d.rolling(1).mean()\n",
        "print(tmp)\n",
        "print()\n",
        "print('=='*20)\n",
        "tmp=d.rolling(2).mean()\n",
        "print(tmp)\n"
      ],
      "metadata": {
        "colab": {
          "base_uri": "https://localhost:8080/"
        },
        "id": "fO9XP1LzACHO",
        "outputId": "0bcca06c-01cb-49ff-87a8-957569ab8ae8"
      },
      "execution_count": 22,
      "outputs": [
        {
          "output_type": "stream",
          "name": "stdout",
          "text": [
            "원본\n",
            "========================================\n",
            "            x1\n",
            "date          \n",
            "2021-01-06   5\n",
            "2021-01-13   4\n",
            "2021-01-20   3\n",
            "2021-01-27   2\n",
            "2021-02-03   7\n",
            "========================================\n",
            "             x1\n",
            "date           \n",
            "2021-01-06  5.0\n",
            "2021-01-13  4.0\n",
            "2021-01-20  3.0\n",
            "2021-01-27  2.0\n",
            "2021-02-03  7.0\n",
            "\n",
            "========================================\n",
            "             x1\n",
            "date           \n",
            "2021-01-06  NaN\n",
            "2021-01-13  4.5\n",
            "2021-01-20  3.5\n",
            "2021-01-27  2.5\n",
            "2021-02-03  4.5\n"
          ]
        }
      ]
    },
    {
      "cell_type": "markdown",
      "source": [
        "본문예제11-11"
      ],
      "metadata": {
        "id": "IKk0kvzWB8S5"
      }
    },
    {
      "cell_type": "code",
      "source": [
        "import numpy as np\n",
        "d=pd.DataFrame({'date':['2021-01-06', '2021-01-13', '2021-01-20', '2021-01-27', '2021-02-03'],\n",
        "'x1':[5,4,3,2,7]})\n",
        "d['date']=pd.to_datetime(d.date)\n",
        "d.set_index(keys=['date'],inplace=True)\n",
        "print(\"원본\")\n",
        "print('=='*20)\n",
        "print(d)\n",
        "y_diff=d.diff() # 이전값-이후값\n",
        "y_diff.columns=['diff'] # 컬럼명 만들기\n",
        "temp=pd.concat([d,y_diff],axis=1) # 데이터프레임 열끼리 합치기\n",
        "print('=='*20)\n",
        "print(temp)"
      ],
      "metadata": {
        "colab": {
          "base_uri": "https://localhost:8080/"
        },
        "id": "bkGUWioLB_GU",
        "outputId": "7bf015a3-6c6f-4e61-c1bc-1fb9a1c9569d"
      },
      "execution_count": 23,
      "outputs": [
        {
          "output_type": "stream",
          "name": "stdout",
          "text": [
            "원본\n",
            "========================================\n",
            "            x1\n",
            "date          \n",
            "2021-01-06   5\n",
            "2021-01-13   4\n",
            "2021-01-20   3\n",
            "2021-01-27   2\n",
            "2021-02-03   7\n",
            "========================================\n",
            "            x1  diff\n",
            "date                \n",
            "2021-01-06   5   NaN\n",
            "2021-01-13   4  -1.0\n",
            "2021-01-20   3  -1.0\n",
            "2021-01-27   2  -1.0\n",
            "2021-02-03   7   5.0\n"
          ]
        }
      ]
    },
    {
      "cell_type": "markdown",
      "source": [
        "본문예제11-12"
      ],
      "metadata": {
        "id": "Qu8nymbrCJvF"
      }
    },
    {
      "cell_type": "code",
      "source": [
        "import numpy as np\n",
        "d=pd.DataFrame({'date':['2021-01-06', '2021-01-13', '2021-01-20', '2021-01-27', '2021-02-03'],\n",
        "'x1':[5,4,3,2,7]})\n",
        "d['date']=pd.to_datetime(d.date)\n",
        "d.set_index(keys=['date'],inplace=True)\n",
        "print(\"원본\")\n",
        "print('=='*20)\n",
        "print(d)\n",
        "print('=='*20)\n",
        "d['shift']=d['x1'].shift(2)\n",
        "print(d)\n",
        "print('=='*20)\n",
        "d=d.fillna(method='bfill')\n",
        "print(d)"
      ],
      "metadata": {
        "colab": {
          "base_uri": "https://localhost:8080/"
        },
        "id": "02jZOs-FCMIH",
        "outputId": "16659405-7946-4d77-ea9d-63b6e6fbc027"
      },
      "execution_count": 25,
      "outputs": [
        {
          "output_type": "stream",
          "name": "stdout",
          "text": [
            "원본\n",
            "========================================\n",
            "            x1\n",
            "date          \n",
            "2021-01-06   5\n",
            "2021-01-13   4\n",
            "2021-01-20   3\n",
            "2021-01-27   2\n",
            "2021-02-03   7\n",
            "========================================\n",
            "            x1  shift\n",
            "date                 \n",
            "2021-01-06   5    NaN\n",
            "2021-01-13   4    NaN\n",
            "2021-01-20   3    5.0\n",
            "2021-01-27   2    4.0\n",
            "2021-02-03   7    3.0\n",
            "========================================\n",
            "            x1  shift\n",
            "date                 \n",
            "2021-01-06   5    5.0\n",
            "2021-01-13   4    5.0\n",
            "2021-01-20   3    5.0\n",
            "2021-01-27   2    4.0\n",
            "2021-02-03   7    3.0\n"
          ]
        }
      ]
    },
    {
      "cell_type": "markdown",
      "source": [
        "본문예제11-12"
      ],
      "metadata": {
        "id": "48shmZv2Egz1"
      }
    },
    {
      "cell_type": "code",
      "source": [
        "import numpy as np\n",
        "d=pd.DataFrame({'date':['2021-01-06', '2021-01-13', '2021-01-20', '2021-01-27', '2021-02-03'], 'x1':[5,4,3,2,7],'과목':['a','b','c','d','e']})\n",
        "d['date']=pd.to_datetime(d.date)\n",
        "d.set_index(keys=['date'],inplace=True)\n",
        "print(\"원본\")\n",
        "print('=='*20)\n",
        "print(d)\n",
        "x=pd.get_dummies(d['과목'])\n",
        "x=pd.concat([d,x],axis=1)\n",
        "print('=='*20)\n",
        "print(x)"
      ],
      "metadata": {
        "colab": {
          "base_uri": "https://localhost:8080/"
        },
        "id": "LJfFbjKTEpMU",
        "outputId": "bfb32a98-f450-40f7-f900-4085bf76c891"
      },
      "execution_count": 27,
      "outputs": [
        {
          "output_type": "stream",
          "name": "stdout",
          "text": [
            "원본\n",
            "========================================\n",
            "            x1 과목\n",
            "date             \n",
            "2021-01-06   5  a\n",
            "2021-01-13   4  b\n",
            "2021-01-20   3  c\n",
            "2021-01-27   2  d\n",
            "2021-02-03   7  e\n",
            "========================================\n",
            "            x1 과목  a  b  c  d  e\n",
            "date                            \n",
            "2021-01-06   5  a  1  0  0  0  0\n",
            "2021-01-13   4  b  0  1  0  0  0\n",
            "2021-01-20   3  c  0  0  1  0  0\n",
            "2021-01-27   2  d  0  0  0  1  0\n",
            "2021-02-03   7  e  0  0  0  0  1\n"
          ]
        }
      ]
    }
  ]
}
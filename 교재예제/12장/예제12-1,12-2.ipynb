{
  "nbformat": 4,
  "nbformat_minor": 0,
  "metadata": {
    "colab": {
      "provenance": []
    },
    "kernelspec": {
      "name": "python3",
      "display_name": "Python 3"
    },
    "language_info": {
      "name": "python"
    }
  },
  "cells": [
    {
      "cell_type": "markdown",
      "source": [
        "본문12-01"
      ],
      "metadata": {
        "id": "4KpxfooeK6g0"
      }
    },
    {
      "cell_type": "code",
      "execution_count": 1,
      "metadata": {
        "colab": {
          "base_uri": "https://localhost:8080/"
        },
        "id": "LN1l9cYKKJ1A",
        "outputId": "8e49f10b-471e-4d67-df1d-85755d890dbc"
      },
      "outputs": [
        {
          "output_type": "stream",
          "name": "stdout",
          "text": [
            "Looking in indexes: https://pypi.org/simple, https://us-python.pkg.dev/colab-wheels/public/simple/\n",
            "Collecting konlpy\n",
            "  Downloading konlpy-0.6.0-py2.py3-none-any.whl (19.4 MB)\n",
            "\u001b[2K     \u001b[90m━━━━━━━━━━━━━━━━━━━━━━━━━━━━━━━━━━━━━━━━\u001b[0m \u001b[32m19.4/19.4 MB\u001b[0m \u001b[31m39.7 MB/s\u001b[0m eta \u001b[36m0:00:00\u001b[0m\n",
            "\u001b[?25hRequirement already satisfied: lxml>=4.1.0 in /usr/local/lib/python3.8/dist-packages (from konlpy) (4.9.2)\n",
            "Requirement already satisfied: numpy>=1.6 in /usr/local/lib/python3.8/dist-packages (from konlpy) (1.22.4)\n",
            "Collecting JPype1>=0.7.0\n",
            "  Downloading JPype1-1.4.1-cp38-cp38-manylinux_2_12_x86_64.manylinux2010_x86_64.whl (465 kB)\n",
            "\u001b[2K     \u001b[90m━━━━━━━━━━━━━━━━━━━━━━━━━━━━━━━━━━━━━━\u001b[0m \u001b[32m465.6/465.6 KB\u001b[0m \u001b[31m22.6 MB/s\u001b[0m eta \u001b[36m0:00:00\u001b[0m\n",
            "\u001b[?25hRequirement already satisfied: packaging in /usr/local/lib/python3.8/dist-packages (from JPype1>=0.7.0->konlpy) (23.0)\n",
            "Installing collected packages: JPype1, konlpy\n",
            "Successfully installed JPype1-1.4.1 konlpy-0.6.0\n"
          ]
        }
      ],
      "source": [
        "!pip install konlpy"
      ]
    },
    {
      "cell_type": "code",
      "source": [
        "!pip show konlpy"
      ],
      "metadata": {
        "colab": {
          "base_uri": "https://localhost:8080/"
        },
        "id": "oZHgX00GKeQC",
        "outputId": "e19095e9-fd06-49a1-9d0f-afea31a894f0"
      },
      "execution_count": 2,
      "outputs": [
        {
          "output_type": "stream",
          "name": "stdout",
          "text": [
            "Name: konlpy\n",
            "Version: 0.6.0\n",
            "Summary: Python package for Korean natural language processing.\n",
            "Home-page: http://konlpy.org\n",
            "Author: Team KoNLPy\n",
            "Author-email: konlpy@googlegroups.com\n",
            "License: GPL v3\n",
            "Location: /usr/local/lib/python3.8/dist-packages\n",
            "Requires: JPype1, lxml, numpy\n",
            "Required-by: \n"
          ]
        }
      ]
    },
    {
      "cell_type": "markdown",
      "source": [
        "본문12-02"
      ],
      "metadata": {
        "id": "-WCbaPruK23L"
      }
    },
    {
      "cell_type": "code",
      "source": [
        "from konlpy.tag import Okt\n",
        "okt=Okt()"
      ],
      "metadata": {
        "id": "p-J5Lr_YK2lU"
      },
      "execution_count": 3,
      "outputs": []
    },
    {
      "cell_type": "markdown",
      "source": [
        "본문12-03"
      ],
      "metadata": {
        "id": "MRSNR9BrLEFK"
      }
    },
    {
      "cell_type": "code",
      "source": [
        "from konlpy.tag import Okt\n",
        "okt=Okt()\n",
        "token=okt.morphs('꿈의 거처')\n",
        "print(token)"
      ],
      "metadata": {
        "colab": {
          "base_uri": "https://localhost:8080/"
        },
        "id": "i28yBxhmK90q",
        "outputId": "02d1ce2d-f2ff-48dd-cae7-cead9b13a404"
      },
      "execution_count": 4,
      "outputs": [
        {
          "output_type": "stream",
          "name": "stdout",
          "text": [
            "['꿈', '의', '거처']\n"
          ]
        }
      ]
    },
    {
      "cell_type": "markdown",
      "source": [
        "본문12-04"
      ],
      "metadata": {
        "id": "Z_LyBk3qLZQ4"
      }
    },
    {
      "cell_type": "code",
      "source": [
        "from konlpy.tag import Okt\n",
        "okt=Okt()\n",
        "sentence_tag=okt.pos('달이 참 예쁘다고')\n",
        "print(sentence_tag)\n",
        "sentence_tag=okt.pos('달이 참 예쁘다고', join=True)\n",
        "print(sentence_tag)"
      ],
      "metadata": {
        "colab": {
          "base_uri": "https://localhost:8080/"
        },
        "id": "CDRhUsZyLawA",
        "outputId": "54b58a83-b94e-479b-b754-bca6ea7c3d7f"
      },
      "execution_count": 6,
      "outputs": [
        {
          "output_type": "stream",
          "name": "stdout",
          "text": [
            "[('달이', 'Noun'), ('참', 'Verb'), ('예쁘다고', 'Adjective')]\n",
            "['달이/Noun', '참/Verb', '예쁘다고/Adjective']\n"
          ]
        }
      ]
    },
    {
      "cell_type": "markdown",
      "source": [
        "본문12-05"
      ],
      "metadata": {
        "id": "llvlF1GtL0q9"
      }
    },
    {
      "cell_type": "code",
      "source": [
        "from konlpy.tag import Okt\n",
        "okt=Okt()\n",
        "sentence=okt.phrases('달이 참 예쁘다고')\n",
        "sentence"
      ],
      "metadata": {
        "colab": {
          "base_uri": "https://localhost:8080/"
        },
        "id": "fL3JYlpuL2iH",
        "outputId": "24921d3f-1202-41f8-f20a-cd18cdf54d39"
      },
      "execution_count": 7,
      "outputs": [
        {
          "output_type": "execute_result",
          "data": {
            "text/plain": [
              "['달이']"
            ]
          },
          "metadata": {},
          "execution_count": 7
        }
      ]
    },
    {
      "cell_type": "markdown",
      "source": [
        "본문12-06"
      ],
      "metadata": {
        "id": "Q__abtttMIl1"
      }
    },
    {
      "cell_type": "code",
      "source": [
        "from konlpy.tag import Okt\n",
        "okt=Okt()\n",
        "text=input()\n",
        "sentece_tag=okt.pos(text)\n",
        "print(sentece_tag)"
      ],
      "metadata": {
        "colab": {
          "base_uri": "https://localhost:8080/"
        },
        "id": "Ju0VzrUeMKSf",
        "outputId": "5f320f24-13b4-4391-bf38-1a8014bc831d"
      },
      "execution_count": 10,
      "outputs": [
        {
          "output_type": "stream",
          "name": "stdout",
          "text": [
            "내겐 멀쩡한 나침반이 없어 따라가 봐도 북극성은 없어 어디쯤인지 대체 알 수가 없어 희한한 것은 이젠 걱정이 없어 바늘 끝엔 항상 네가 있어 (있어) 있어 (있어) 이제 와 영혼의 방황 같은 건 됐어 (됐어) 됐어 난 오직 너에게로부터 쏟아지는 햇살을 굳혀 나침반 위에 눈보란 너에게서 그쳐 파묻힌 내 꿈의 거처는 아무래도 너여야 아무래도 너여야만 해\n",
            "[('내겐', 'Noun'), ('멀쩡한', 'Adjective'), ('나침반', 'Noun'), ('이', 'Josa'), ('없어', 'Adjective'), ('따라가', 'Verb'), ('봐도', 'Verb'), ('북극성', 'Noun'), ('은', 'Josa'), ('없어', 'Adjective'), ('어디', 'Noun'), ('쯤', 'Suffix'), ('인지', 'Josa'), ('대체', 'Noun'), ('알', 'Noun'), ('수가', 'Noun'), ('없어', 'Adjective'), ('희한한', 'Adjective'), ('것', 'Noun'), ('은', 'Josa'), ('이', 'Determiner'), ('젠', 'Noun'), ('걱정', 'Noun'), ('이', 'Josa'), ('없어', 'Adjective'), ('바늘', 'Noun'), ('끝', 'Noun'), ('엔', 'Josa'), ('항상', 'Noun'), ('네', 'Noun'), ('가', 'Josa'), ('있어', 'Adjective'), ('(', 'Punctuation'), ('있어', 'Adjective'), (')', 'Punctuation'), ('있어', 'Adjective'), ('(', 'Punctuation'), ('있어', 'Adjective'), (')', 'Punctuation'), ('이제', 'Noun'), ('와', 'Verb'), ('영혼', 'Noun'), ('의', 'Josa'), ('방황', 'Noun'), ('같은', 'Adjective'), ('건', 'Noun'), ('됐어', 'Verb'), ('(', 'Punctuation'), ('됐어', 'Verb'), (')', 'Punctuation'), ('됐어', 'Verb'), ('난', 'Noun'), ('오직', 'Noun'), ('너', 'Noun'), ('에게', 'Josa'), ('로부터', 'Noun'), ('쏟아지는', 'Verb'), ('햇살', 'Noun'), ('을', 'Josa'), ('굳혀', 'Verb'), ('나침반', 'Noun'), ('위', 'Noun'), ('에', 'Josa'), ('눈', 'Noun'), ('보란', 'Verb'), ('너', 'Noun'), ('에게서', 'Josa'), ('그쳐', 'Verb'), ('파묻힌', 'Verb'), ('내', 'Noun'), ('꿈', 'Noun'), ('의', 'Josa'), ('거처', 'Noun'), ('는', 'Josa'), ('아무래도', 'Adverb'), ('너', 'Modifier'), ('여야', 'Noun'), ('아무래도', 'Adverb'), ('너', 'Modifier'), ('여야', 'Noun'), ('만', 'Josa'), ('해', 'Noun')]\n"
          ]
        }
      ]
    },
    {
      "cell_type": "markdown",
      "source": [
        "본문12-07"
      ],
      "metadata": {
        "id": "XfyjhC2iNthQ"
      }
    },
    {
      "cell_type": "code",
      "source": [
        "import collections\n",
        "\n",
        "text='서기가  영원해도  난  마지막  나야  난  나라는  시대의  처음과  끝이야  난  나라는  인류의  기원과  종말이야  넌  나라는  마음의  유일한  무덤이야  넌  나라는  시계의  마지막  시침이야  난  나라는  우주의  빅뱅과  블랙홀이야  난  나라는  신화의  실체와  허구야  난  너의  이름을  닮은  집을 지을 거야'\n",
        "sentece_tag=okt.pos(text)\n",
        "\n",
        "adj_list=[]\n",
        "for word,tag in sentece_tag: \n",
        "  if tag in ['Noun','Adjective']: # 품사 중에서 명사, 형용사인 것만 추출하기\n",
        "    adj_list.append(word)\n",
        "counts=collections.Counter(adj_list)\n",
        "tag=counts.most_common(10)\n",
        "print(tag)"
      ],
      "metadata": {
        "colab": {
          "base_uri": "https://localhost:8080/"
        },
        "id": "x3bFRgG4NzPa",
        "outputId": "6e8d51d8-1ab4-482c-e5f1-2a67c10d8488"
      },
      "execution_count": 11,
      "outputs": [
        {
          "output_type": "stream",
          "name": "stdout",
          "text": [
            "[('난', 6), ('나라', 6), ('마지막', 2), ('넌', 2), ('서기', 1), ('영원해도', 1), ('나야', 1), ('시대', 1), ('처음', 1), ('끝', 1)]\n"
          ]
        }
      ]
    },
    {
      "cell_type": "markdown",
      "source": [
        "본문12-08"
      ],
      "metadata": {
        "id": "4CMsN554N_B0"
      }
    },
    {
      "cell_type": "code",
      "source": [
        "\n",
        "!pip install wordcloud"
      ],
      "metadata": {
        "colab": {
          "base_uri": "https://localhost:8080/"
        },
        "id": "P9pItW_pOBVz",
        "outputId": "4480066a-40d4-4f73-957e-93ab236cf2a1"
      },
      "execution_count": 12,
      "outputs": [
        {
          "output_type": "stream",
          "name": "stdout",
          "text": [
            "Looking in indexes: https://pypi.org/simple, https://us-python.pkg.dev/colab-wheels/public/simple/\n",
            "Requirement already satisfied: wordcloud in /usr/local/lib/python3.8/dist-packages (1.8.2.2)\n",
            "Requirement already satisfied: pillow in /usr/local/lib/python3.8/dist-packages (from wordcloud) (7.1.2)\n",
            "Requirement already satisfied: matplotlib in /usr/local/lib/python3.8/dist-packages (from wordcloud) (3.5.3)\n",
            "Requirement already satisfied: numpy>=1.6.1 in /usr/local/lib/python3.8/dist-packages (from wordcloud) (1.22.4)\n",
            "Requirement already satisfied: packaging>=20.0 in /usr/local/lib/python3.8/dist-packages (from matplotlib->wordcloud) (23.0)\n",
            "Requirement already satisfied: python-dateutil>=2.7 in /usr/local/lib/python3.8/dist-packages (from matplotlib->wordcloud) (2.8.2)\n",
            "Requirement already satisfied: pyparsing>=2.2.1 in /usr/local/lib/python3.8/dist-packages (from matplotlib->wordcloud) (3.0.9)\n",
            "Requirement already satisfied: cycler>=0.10 in /usr/local/lib/python3.8/dist-packages (from matplotlib->wordcloud) (0.11.0)\n",
            "Requirement already satisfied: fonttools>=4.22.0 in /usr/local/lib/python3.8/dist-packages (from matplotlib->wordcloud) (4.38.0)\n",
            "Requirement already satisfied: kiwisolver>=1.0.1 in /usr/local/lib/python3.8/dist-packages (from matplotlib->wordcloud) (1.4.4)\n",
            "Requirement already satisfied: six>=1.5 in /usr/local/lib/python3.8/dist-packages (from python-dateutil>=2.7->matplotlib->wordcloud) (1.15.0)\n"
          ]
        }
      ]
    },
    {
      "cell_type": "code",
      "source": [
        "\n",
        "import matplotlib.pyplot as plt"
      ],
      "metadata": {
        "id": "8DFLEA7hOGZQ"
      },
      "execution_count": 13,
      "outputs": []
    },
    {
      "cell_type": "markdown",
      "source": [
        "본문12-09"
      ],
      "metadata": {
        "id": "T1PSkz76ORzo"
      }
    },
    {
      "cell_type": "code",
      "source": [
        "! apt-get install fonts-nanum\n",
        "font_path='/usr/share/fonts/truetype/nanum/NanumBarunGothic.ttf'"
      ],
      "metadata": {
        "colab": {
          "base_uri": "https://localhost:8080/"
        },
        "id": "nXI5mF56OU-h",
        "outputId": "3b3591d4-815b-4e99-f120-134265940315"
      },
      "execution_count": 14,
      "outputs": [
        {
          "output_type": "stream",
          "name": "stdout",
          "text": [
            "Reading package lists... Done\n",
            "Building dependency tree       \n",
            "Reading state information... Done\n",
            "The following NEW packages will be installed:\n",
            "  fonts-nanum\n",
            "0 upgraded, 1 newly installed, 0 to remove and 19 not upgraded.\n",
            "Need to get 9,599 kB of archives.\n",
            "After this operation, 29.6 MB of additional disk space will be used.\n",
            "Get:1 http://archive.ubuntu.com/ubuntu focal/universe amd64 fonts-nanum all 20180306-3 [9,599 kB]\n",
            "Fetched 9,599 kB in 0s (53.7 MB/s)\n",
            "Selecting previously unselected package fonts-nanum.\n",
            "(Reading database ... 128208 files and directories currently installed.)\n",
            "Preparing to unpack .../fonts-nanum_20180306-3_all.deb ...\n",
            "Unpacking fonts-nanum (20180306-3) ...\n",
            "Setting up fonts-nanum (20180306-3) ...\n",
            "Processing triggers for fontconfig (2.13.1-2ubuntu3) ...\n"
          ]
        }
      ]
    },
    {
      "cell_type": "markdown",
      "source": [
        "본문12-10"
      ],
      "metadata": {
        "id": "jl6RJNfEOZ0A"
      }
    },
    {
      "cell_type": "code",
      "source": [
        "text=input()\n",
        "sentence_tag=okt.pos(text)\n",
        "adj_list=[]\n",
        "for word,tag in sentece_tag:\n",
        "  if tag in ['Noun','Adjective']:\n",
        "    adj_list.append(word)"
      ],
      "metadata": {
        "colab": {
          "base_uri": "https://localhost:8080/"
        },
        "id": "3NfrzhgLObW6",
        "outputId": "a9ba3a27-3a16-40d7-fc54-f7ff7483539d"
      },
      "execution_count": 25,
      "outputs": [
        {
          "name": "stdout",
          "output_type": "stream",
          "text": [
            "서기가  영원해도  난  마지막  나야  난  나라는  시대의  처음과  끝이야  난  나라는  인류의  기원과  종말이야  넌  나라는  마음의  유일한  무덤이야  넌  나라는  시계의  마지막  시침이야  난  나라는  우주의  빅뱅과  블랙홀이야  난  나라는  신화의  실체와  허구야  난  너의  이름을  닮은  집을 지을 거야\n"
          ]
        }
      ]
    },
    {
      "cell_type": "markdown",
      "source": [
        "본문12-11"
      ],
      "metadata": {
        "id": "fuqlMjMOP9hP"
      }
    },
    {
      "cell_type": "code",
      "source": [
        "counts=collections.Counter(adj_list)\n",
        "tag=counts.most_common(10)\n",
        "tag"
      ],
      "metadata": {
        "colab": {
          "base_uri": "https://localhost:8080/"
        },
        "id": "PUY0MAmPP_So",
        "outputId": "106515da-9b10-4ce7-d8c4-2fe40a7812aa"
      },
      "execution_count": 26,
      "outputs": [
        {
          "output_type": "execute_result",
          "data": {
            "text/plain": [
              "[('난', 6),\n",
              " ('나라', 6),\n",
              " ('마지막', 2),\n",
              " ('넌', 2),\n",
              " ('서기', 1),\n",
              " ('영원해도', 1),\n",
              " ('나야', 1),\n",
              " ('시대', 1),\n",
              " ('처음', 1),\n",
              " ('끝', 1)]"
            ]
          },
          "metadata": {},
          "execution_count": 26
        }
      ]
    },
    {
      "cell_type": "markdown",
      "source": [
        "본문12-12"
      ],
      "metadata": {
        "id": "vCAXDe5VQ_i3"
      }
    },
    {
      "cell_type": "code",
      "source": [
        "from wordcloud import WordCloud\n",
        "wc = WordCloud(font_path=font_path, background_color='white',max_font_size=60)\n",
        "cloud=wc.generate_from_frequencies(dict(tag))"
      ],
      "metadata": {
        "id": "4b4p6vJ0RA_A"
      },
      "execution_count": 29,
      "outputs": []
    },
    {
      "cell_type": "markdown",
      "source": [
        "본문12-13"
      ],
      "metadata": {
        "id": "HYKpBbP3RD63"
      }
    },
    {
      "cell_type": "code",
      "source": [
        "import matplotlib.pyplot as plt\n",
        "plt.figure(figsize=(10,8))\n",
        "plt.imshow(cloud)"
      ],
      "metadata": {
        "colab": {
          "base_uri": "https://localhost:8080/",
          "height": 348
        },
        "id": "QNDfRJlNRFcY",
        "outputId": "d060bf1a-511c-4e73-da66-f6a9e328e9e5"
      },
      "execution_count": 30,
      "outputs": [
        {
          "output_type": "execute_result",
          "data": {
            "text/plain": [
              "<matplotlib.image.AxesImage at 0x7ff80ce10550>"
            ]
          },
          "metadata": {},
          "execution_count": 30
        },
        {
          "output_type": "display_data",
          "data": {
            "text/plain": [
              "<Figure size 720x576 with 1 Axes>"
            ],
            "image/png": "[encoded data removed]"
          },
          "metadata": {
            "needs_background": "light"
          }
        }
      ]
    }
  ]
}
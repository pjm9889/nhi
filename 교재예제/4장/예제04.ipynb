{
  "nbformat": 4,
  "nbformat_minor": 0,
  "metadata": {
    "colab": {
      "name": "[교재집필] 넘파이 라이브러리.ipynb",
      "provenance": [],
      "collapsed_sections": [
        "y8d_eyIJS5RJ",
        "H0cdomkUeLsP",
        "t-anJ9rUM2KF",
        "fgLgYCQoWrot",
        "7m1G-gMsz8e6",
        "1ru2qAZgR3oa"
      ],
      "toc_visible": true
    },
    "kernelspec": {
      "name": "python3",
      "display_name": "Python 3"
    },
    "language_info": {
      "name": "python"
    }
  },
  "cells": [
    {
      "cell_type": "code",
      "metadata": {
        "id": "7AINtfkbSLZi"
      },
      "source": [
        ""
      ],
      "execution_count": null,
      "outputs": []
    },
    {
      "cell_type": "markdown",
      "metadata": {
        "id": "mHs710dASMeR"
      },
      "source": [
        "# 배열생성하기"
      ]
    },
    {
      "cell_type": "markdown",
      "metadata": {
        "id": "8oFWDGpNHv7z"
      },
      "source": [
        "## 리스트로 배열 만들기"
      ]
    },
    {
      "cell_type": "code",
      "metadata": {
        "colab": {
          "base_uri": "https://localhost:8080/"
        },
        "id": "sQUiqwraFmcP",
        "outputId": "ad38c198-8870-40c4-991e-7111bd9c35a2"
      },
      "source": [
        "# 1차원 배열(list)로 NumPy 배열 생성\n",
        "import numpy as np\n",
        "arr = np.array([1, 2, 3, 4, 5])\n",
        "print(arr)"
      ],
      "execution_count": null,
      "outputs": [
        {
          "output_type": "stream",
          "name": "stdout",
          "text": [
            "[1 2 3 4 5]\n"
          ]
        }
      ]
    },
    {
      "cell_type": "code",
      "metadata": {
        "colab": {
          "base_uri": "https://localhost:8080/"
        },
        "id": "dqxHLN8CHvTZ",
        "outputId": "62c189df-e8fd-463b-928c-03bab38ca75a"
      },
      "source": [
        "# 2차원 배열(list)로 NumPy 배열 생성\n",
        "arr=np.array([[1,2,3],[4,5,6]])\n",
        "print(arr)"
      ],
      "execution_count": null,
      "outputs": [
        {
          "output_type": "stream",
          "name": "stdout",
          "text": [
            "[[1 2 3]\n",
            " [4 5 6]]\n"
          ]
        }
      ]
    },
    {
      "cell_type": "code",
      "metadata": {
        "colab": {
          "base_uri": "https://localhost:8080/"
        },
        "id": "uJfjeRHgHu8S",
        "outputId": "0be36b3d-d7fb-479d-d495-88dea7fbc87e"
      },
      "source": [
        "# 3차원 배열(list)로 NumPy 배열 생성\n",
        "arr=np.array([[[1,2,3],[4,5,6],[7,8,9]],\n",
        "              [[1,2,3],[4,5,6],[7,8,9]],\n",
        "              [[1,2,3],[4,5,6],[7,8,9]]])\n",
        "print(arr)"
      ],
      "execution_count": null,
      "outputs": [
        {
          "output_type": "stream",
          "name": "stdout",
          "text": [
            "[[[1 2 3]\n",
            "  [4 5 6]\n",
            "  [7 8 9]]\n",
            "\n",
            " [[1 2 3]\n",
            "  [4 5 6]\n",
            "  [7 8 9]]\n",
            "\n",
            " [[1 2 3]\n",
            "  [4 5 6]\n",
            "  [7 8 9]]]\n"
          ]
        }
      ]
    },
    {
      "cell_type": "markdown",
      "metadata": {
        "id": "7jqSuYMjJ9w6"
      },
      "source": [
        "## 배열 생성 및 초기화"
      ]
    },
    {
      "cell_type": "code",
      "metadata": {
        "colab": {
          "base_uri": "https://localhost:8080/"
        },
        "id": "XCufgAa_KBLk",
        "outputId": "7d7d4d6b-a5de-4d88-9e72-c9a17e39151b"
      },
      "source": [
        "a=np.zeros(10)\n",
        "print(a)"
      ],
      "execution_count": null,
      "outputs": [
        {
          "output_type": "stream",
          "name": "stdout",
          "text": [
            "[0. 0. 0. 0. 0. 0. 0. 0. 0. 0.]\n"
          ]
        }
      ]
    },
    {
      "cell_type": "code",
      "metadata": {
        "colab": {
          "base_uri": "https://localhost:8080/"
        },
        "id": "wcUaS9LBLFnq",
        "outputId": "5b5185d1-e275-4099-9cde-f25918342427"
      },
      "source": [
        "b=np.zeros((3,3))\n",
        "print(b)"
      ],
      "execution_count": null,
      "outputs": [
        {
          "output_type": "stream",
          "name": "stdout",
          "text": [
            "[[0. 0. 0.]\n",
            " [0. 0. 0.]\n",
            " [0. 0. 0.]]\n"
          ]
        }
      ]
    },
    {
      "cell_type": "code",
      "metadata": {
        "colab": {
          "base_uri": "https://localhost:8080/"
        },
        "id": "Lg9KFT_OKMHo",
        "outputId": "02a259d2-b6cb-4f7a-a687-03a85db07722"
      },
      "source": [
        "a=np.ones(10)\n",
        "print(a)"
      ],
      "execution_count": null,
      "outputs": [
        {
          "output_type": "stream",
          "name": "stdout",
          "text": [
            "[1. 1. 1. 1. 1. 1. 1. 1. 1. 1.]\n"
          ]
        }
      ]
    },
    {
      "cell_type": "code",
      "metadata": {
        "colab": {
          "base_uri": "https://localhost:8080/",
          "height": 182
        },
        "id": "GFJnNdnKL4H2",
        "outputId": "41ee9222-c220-486e-8876-03b37ee1157c"
      },
      "source": [
        "b=np.ones((3,3))\n",
        "print(b)"
      ],
      "execution_count": null,
      "outputs": [
        {
          "output_type": "error",
          "ename": "NameError",
          "evalue": "ignored",
          "traceback": [
            "\u001b[0;31m---------------------------------------------------------------------------\u001b[0m",
            "\u001b[0;31mNameError\u001b[0m                                 Traceback (most recent call last)",
            "\u001b[0;32m<ipython-input-1-7f01dab5cbff>\u001b[0m in \u001b[0;36m<module>\u001b[0;34m()\u001b[0m\n\u001b[0;32m----> 1\u001b[0;31m \u001b[0mb\u001b[0m\u001b[0;34m=\u001b[0m\u001b[0mnp\u001b[0m\u001b[0;34m.\u001b[0m\u001b[0mones\u001b[0m\u001b[0;34m(\u001b[0m\u001b[0;34m(\u001b[0m\u001b[0;36m3\u001b[0m\u001b[0;34m,\u001b[0m\u001b[0;36m3\u001b[0m\u001b[0;34m)\u001b[0m\u001b[0;34m)\u001b[0m\u001b[0;34m\u001b[0m\u001b[0;34m\u001b[0m\u001b[0m\n\u001b[0m\u001b[1;32m      2\u001b[0m \u001b[0mprint\u001b[0m\u001b[0;34m(\u001b[0m\u001b[0mb\u001b[0m\u001b[0;34m)\u001b[0m\u001b[0;34m\u001b[0m\u001b[0;34m\u001b[0m\u001b[0m\n",
            "\u001b[0;31mNameError\u001b[0m: name 'np' is not defined"
          ]
        }
      ]
    },
    {
      "cell_type": "code",
      "metadata": {
        "colab": {
          "base_uri": "https://localhost:8080/"
        },
        "id": "nE_4gr7QMGos",
        "outputId": "c3c8c585-f106-4a6e-99ac-9a0a7beaf0bd"
      },
      "source": [
        "a=np.full((3,3),1.5)\n",
        "print(a)"
      ],
      "execution_count": null,
      "outputs": [
        {
          "output_type": "stream",
          "name": "stdout",
          "text": [
            "[[1.5 1.5 1.5]\n",
            " [1.5 1.5 1.5]\n",
            " [1.5 1.5 1.5]]\n"
          ]
        }
      ]
    },
    {
      "cell_type": "code",
      "metadata": {
        "colab": {
          "base_uri": "https://localhost:8080/"
        },
        "id": "9q1Yhhw6MxM0",
        "outputId": "565dc7ae-ccf5-4de7-e9f4-812a160b027c"
      },
      "source": [
        "a=np.eye(3)\n",
        "print(a)"
      ],
      "execution_count": null,
      "outputs": [
        {
          "output_type": "stream",
          "name": "stdout",
          "text": [
            "[[1. 0. 0.]\n",
            " [0. 1. 0.]\n",
            " [0. 0. 1.]]\n"
          ]
        }
      ]
    },
    {
      "cell_type": "code",
      "metadata": {
        "colab": {
          "base_uri": "https://localhost:8080/"
        },
        "id": "flTRs_8WN_l3",
        "outputId": "63db5499-3116-4079-afce-da7bb5534484"
      },
      "source": [
        "a=np.tri(3)\n",
        "print(a)"
      ],
      "execution_count": null,
      "outputs": [
        {
          "output_type": "stream",
          "name": "stdout",
          "text": [
            "[[1. 0. 0.]\n",
            " [1. 1. 0.]\n",
            " [1. 1. 1.]]\n"
          ]
        }
      ]
    },
    {
      "cell_type": "markdown",
      "metadata": {
        "id": "RDm--UjeO71l"
      },
      "source": [
        "## 생성한 값으로 배열 생성"
      ]
    },
    {
      "cell_type": "code",
      "metadata": {
        "colab": {
          "base_uri": "https://localhost:8080/"
        },
        "id": "6rhU3qZIO_eH",
        "outputId": "883d7433-2c48-4607-a1cb-e9246312779a"
      },
      "source": [
        "a=np.arange(1,21)\n",
        "print(a)"
      ],
      "execution_count": null,
      "outputs": [
        {
          "output_type": "stream",
          "name": "stdout",
          "text": [
            "[ 1  2  3  4  5  6  7  8  9 10 11 12 13 14 15 16 17 18 19 20]\n"
          ]
        }
      ]
    },
    {
      "cell_type": "code",
      "metadata": {
        "colab": {
          "base_uri": "https://localhost:8080/"
        },
        "id": "Hoe_YMH7PpXG",
        "outputId": "3d7cb8e1-5dde-43aa-d69d-ba83b6ac8602"
      },
      "source": [
        "a=np.linspace(0,10,5)\n",
        "print(a)"
      ],
      "execution_count": null,
      "outputs": [
        {
          "output_type": "stream",
          "name": "stdout",
          "text": [
            "[ 0.   2.5  5.   7.5 10. ]\n"
          ]
        }
      ]
    },
    {
      "cell_type": "code",
      "metadata": {
        "colab": {
          "base_uri": "https://localhost:8080/"
        },
        "id": "oWyiTsRURmAI",
        "outputId": "9542e18c-9e08-47ad-e7b7-2d9556fc5396"
      },
      "source": [
        "a=np.logspace(np.log10(10),np.log10(100),5)\n",
        "print(a)"
      ],
      "execution_count": null,
      "outputs": [
        {
          "output_type": "stream",
          "name": "stdout",
          "text": [
            "[ 10.          17.7827941   31.6227766   56.23413252 100.        ]\n"
          ]
        }
      ]
    },
    {
      "cell_type": "code",
      "metadata": {
        "colab": {
          "base_uri": "https://localhost:8080/"
        },
        "id": "llUhVJ3oQIww",
        "outputId": "c382ec46-00b5-4d9d-80b3-ed5830621a30"
      },
      "source": [
        "a=np.logspace(1,2,5)\n",
        "print(a)"
      ],
      "execution_count": null,
      "outputs": [
        {
          "output_type": "stream",
          "name": "stdout",
          "text": [
            "[ 10.          17.7827941   31.6227766   56.23413252 100.        ]\n"
          ]
        }
      ]
    },
    {
      "cell_type": "markdown",
      "metadata": {
        "id": "y8d_eyIJS5RJ"
      },
      "source": [
        "## 랜덤(난수)으로 배열 생성하기"
      ]
    },
    {
      "cell_type": "code",
      "metadata": {
        "colab": {
          "base_uri": "https://localhost:8080/"
        },
        "id": "YWqxX3jTS9z3",
        "outputId": "e4836509-728d-4c87-a6ad-0743258e3e1e"
      },
      "source": [
        "a=np.random.random()\n",
        "print(a)"
      ],
      "execution_count": null,
      "outputs": [
        {
          "output_type": "stream",
          "name": "stdout",
          "text": [
            "0.9926324802497026\n"
          ]
        }
      ]
    },
    {
      "cell_type": "code",
      "metadata": {
        "colab": {
          "base_uri": "https://localhost:8080/"
        },
        "id": "x_DNlAWTT0C6",
        "outputId": "b31be9c2-41a8-4547-a917-d05fcd408b98"
      },
      "source": [
        "a=np.random.random((4,4))\n",
        "print(a)"
      ],
      "execution_count": null,
      "outputs": [
        {
          "output_type": "stream",
          "name": "stdout",
          "text": [
            "[[0.16618881 0.7430632  0.42123286 0.76126684]\n",
            " [0.64943997 0.47765548 0.25851604 0.42963924]\n",
            " [0.88918227 0.20856945 0.84504922 0.64993751]\n",
            " [0.88676547 0.01447417 0.13687649 0.51767233]]\n"
          ]
        }
      ]
    },
    {
      "cell_type": "code",
      "metadata": {
        "colab": {
          "base_uri": "https://localhost:8080/"
        },
        "id": "PbzjToNjT3Fy",
        "outputId": "6a902a72-b3b9-47b6-c1e0-e39ca4dc80ff"
      },
      "source": [
        "a=np.random.randint(1,10)\n",
        "print(a)"
      ],
      "execution_count": null,
      "outputs": [
        {
          "output_type": "stream",
          "name": "stdout",
          "text": [
            "8\n"
          ]
        }
      ]
    },
    {
      "cell_type": "code",
      "metadata": {
        "colab": {
          "base_uri": "https://localhost:8080/"
        },
        "id": "sBoa-us2VRm_",
        "outputId": "678c8dea-cb4a-4378-ee77-ed28a47843ab"
      },
      "source": [
        "a=np.random.randint(1,10,(4,4))\n",
        "print(a)"
      ],
      "execution_count": null,
      "outputs": [
        {
          "output_type": "stream",
          "name": "stdout",
          "text": [
            "[[3 9 9 8]\n",
            " [5 8 6 4]\n",
            " [1 5 5 3]\n",
            " [4 8 7 1]]\n"
          ]
        }
      ]
    },
    {
      "cell_type": "code",
      "metadata": {
        "colab": {
          "base_uri": "https://localhost:8080/"
        },
        "id": "l9SCmft5WJmA",
        "outputId": "ef2f5e3b-45d8-4500-b834-89009af07029"
      },
      "source": [
        "a=np.random.rand(3,3)\n",
        "print(a)"
      ],
      "execution_count": null,
      "outputs": [
        {
          "output_type": "stream",
          "name": "stdout",
          "text": [
            "[[0.5553195  0.01618298 0.45197812]\n",
            " [0.14882833 0.6100522  0.86166301]\n",
            " [0.59679469 0.29181243 0.71931686]]\n"
          ]
        }
      ]
    },
    {
      "cell_type": "code",
      "metadata": {
        "colab": {
          "base_uri": "https://localhost:8080/"
        },
        "id": "kgVZu_N6XUy2",
        "outputId": "14893a76-5958-43d4-a5dc-5dd3f684e1c2"
      },
      "source": [
        "a=np.random.randn(3,3)\n",
        "print(a)"
      ],
      "execution_count": null,
      "outputs": [
        {
          "output_type": "stream",
          "name": "stdout",
          "text": [
            "[[-1.76838018  0.14220598 -1.31978749]\n",
            " [-0.98732383  0.65894694  0.09234664]\n",
            " [ 1.26284942  1.13236587 -1.12411091]]\n"
          ]
        }
      ]
    },
    {
      "cell_type": "markdown",
      "metadata": {
        "id": "JnLjm1QSXs8n"
      },
      "source": [
        "# 배열 조회"
      ]
    },
    {
      "cell_type": "markdown",
      "metadata": {
        "id": "H0cdomkUeLsP"
      },
      "source": [
        "## 배열 속성 정보"
      ]
    },
    {
      "cell_type": "code",
      "metadata": {
        "colab": {
          "base_uri": "https://localhost:8080/"
        },
        "id": "sKTnWnMFeOBv",
        "outputId": "1934ea43-2e3b-487c-dea3-f7cf8dcb7b50"
      },
      "source": [
        "arr=np.arange(1,6)\n",
        "print(arr)\n",
        "print('ndim:',arr.ndim)  \n",
        "print('shape:',arr.shape) \n",
        "print('dtype:',arr.dtype) \n",
        "print('size:',arr.size) \n",
        "print('itemsize:',arr.itemsize) \n",
        "print('nbytes:',arr.nbytes) "
      ],
      "execution_count": null,
      "outputs": [
        {
          "output_type": "stream",
          "name": "stdout",
          "text": [
            "[1 2 3 4 5]\n",
            "ndim: 1\n",
            "shape: (5,)\n",
            "dtype: int64\n",
            "size: 5\n",
            "itemsize: 8\n",
            "nbytes: 40\n"
          ]
        }
      ]
    },
    {
      "cell_type": "markdown",
      "metadata": {
        "id": "t-anJ9rUM2KF"
      },
      "source": [
        "## 배열인덱싱 및 슬라이싱"
      ]
    },
    {
      "cell_type": "code",
      "metadata": {
        "id": "tJDH0k2PNWs2"
      },
      "source": [
        "import numpy as np"
      ],
      "execution_count": null,
      "outputs": []
    },
    {
      "cell_type": "code",
      "metadata": {
        "colab": {
          "base_uri": "https://localhost:8080/"
        },
        "id": "-Df3g0Z8M4hx",
        "outputId": "31b9aa4d-296e-4723-ad50-9a14d461f783"
      },
      "source": [
        "a1 = np.arange(9) # 1차원 배열\n",
        "print(a1)\n",
        "print(a1[0])\n",
        "print(a1[-1])\n",
        "a1[0]=10 # 요소변경\n",
        "print(a1)"
      ],
      "execution_count": null,
      "outputs": [
        {
          "output_type": "stream",
          "name": "stdout",
          "text": [
            "[0 1 2 3 4 5 6 7 8]\n",
            "0\n",
            "8\n",
            "[10  1  2  3  4  5  6  7  8]\n"
          ]
        }
      ]
    },
    {
      "cell_type": "code",
      "metadata": {
        "colab": {
          "base_uri": "https://localhost:8080/"
        },
        "id": "2IQF-rd-NJb2",
        "outputId": "491489a5-f267-4f61-93fb-02bea69d929a"
      },
      "source": [
        "a2 = np.arange(9).reshape((3, 3)) #2차원 배열\n",
        "print(a2)\n",
        "print(a2[0,1]) # 1행 두번째 컬럼 요소 참조\n",
        "print(a2[1,2]) # 2행 세번째 컬럼 요소 참조\n",
        "a2[0,0]=10 # 1행 첫번째 컬럼 업데이트\n",
        "print(a2)"
      ],
      "execution_count": null,
      "outputs": [
        {
          "output_type": "stream",
          "name": "stdout",
          "text": [
            "[[0 1 2]\n",
            " [3 4 5]\n",
            " [6 7 8]]\n",
            "1\n",
            "5\n",
            "[[10  1  2]\n",
            " [ 3  4  5]\n",
            " [ 6  7  8]]\n"
          ]
        }
      ]
    },
    {
      "cell_type": "code",
      "metadata": {
        "colab": {
          "base_uri": "https://localhost:8080/"
        },
        "id": "NirqieNoRd4_",
        "outputId": "7c75920f-5128-44a5-fa34-264fcd8d6b99"
      },
      "source": [
        "a1= np.arange(6)\n",
        "print(a1)\n",
        "print(a1[0:3])\n",
        "print(a1[1:])\n",
        "print(a1[-2:])\n",
        "print(a1[:-3])\n",
        "print(a1[::2])\n",
        "print(a1[::-1])"
      ],
      "execution_count": null,
      "outputs": [
        {
          "output_type": "stream",
          "name": "stdout",
          "text": [
            "[0 1 2 3 4 5]\n",
            "[0 1 2]\n",
            "[1 2 3 4 5]\n",
            "[4 5]\n",
            "[0 1 2]\n",
            "[0 2 4]\n",
            "[5 4 3 2 1 0]\n"
          ]
        }
      ]
    },
    {
      "cell_type": "code",
      "metadata": {
        "colab": {
          "base_uri": "https://localhost:8080/"
        },
        "id": "54d6bxhFSw5m",
        "outputId": "f2dbae1c-8e42-48d0-bb81-7b2b99cbc400"
      },
      "source": [
        "a2 = np.arange(1, 25).reshape((4, 6)) #2차원 배열\n",
        "print(a2)\n",
        "print(a2[1])\n",
        "print(a2[1:3,1:5])\n",
        "print(a2[2,:])\n",
        "print(a2[:3,:3])\n",
        "print(a2[2:,::-1])\n",
        "print(a2[::-1,::-1])"
      ],
      "execution_count": null,
      "outputs": [
        {
          "output_type": "stream",
          "name": "stdout",
          "text": [
            "[[ 1  2  3  4  5  6]\n",
            " [ 7  8  9 10 11 12]\n",
            " [13 14 15 16 17 18]\n",
            " [19 20 21 22 23 24]]\n",
            "[ 7  8  9 10 11 12]\n",
            "[[ 8  9 10 11]\n",
            " [14 15 16 17]]\n",
            "[13 14 15 16 17 18]\n",
            "[[ 1  2  3]\n",
            " [ 7  8  9]\n",
            " [13 14 15]]\n",
            "[[18 17 16 15 14 13]\n",
            " [24 23 22 21 20 19]]\n",
            "[[24 23 22 21 20 19]\n",
            " [18 17 16 15 14 13]\n",
            " [12 11 10  9  8  7]\n",
            " [ 6  5  4  3  2  1]]\n"
          ]
        }
      ]
    },
    {
      "cell_type": "markdown",
      "metadata": {
        "id": "fgLgYCQoWrot"
      },
      "source": [
        "## 불리언 인덱싱"
      ]
    },
    {
      "cell_type": "code",
      "metadata": {
        "colab": {
          "base_uri": "https://localhost:8080/"
        },
        "id": "qU8NsBOhWtsa",
        "outputId": "92653ded-57eb-4e19-d4aa-67c162bfe824"
      },
      "source": [
        "a=np.arange(1,6)\n",
        "print(a)\n",
        "b=[True,False,False,True,False]\n",
        "print(a[b])"
      ],
      "execution_count": null,
      "outputs": [
        {
          "output_type": "stream",
          "name": "stdout",
          "text": [
            "[1 2 3 4 5]\n",
            "[1 4]\n"
          ]
        }
      ]
    },
    {
      "cell_type": "code",
      "metadata": {
        "colab": {
          "base_uri": "https://localhost:8080/"
        },
        "id": "VJ1POgXnX4HV",
        "outputId": "7b544446-ef3b-4877-a730-fc496d9b335d"
      },
      "source": [
        "a=np.arange(11)\n",
        "print(a[a<5])\n",
        "five_up=(a>=5)\n",
        "five_up\n",
        "print(a[five_up])\n",
        "divide_by_2=a[a%2==0]\n",
        "print(divide_by_2)"
      ],
      "execution_count": null,
      "outputs": [
        {
          "output_type": "stream",
          "name": "stdout",
          "text": [
            "[0 1 2 3 4]\n",
            "[ 5  6  7  8  9 10]\n",
            "[ 0  2  4  6  8 10]\n"
          ]
        }
      ]
    },
    {
      "cell_type": "code",
      "metadata": {
        "colab": {
          "base_uri": "https://localhost:8080/"
        },
        "id": "g-8RmMF_ZK1k",
        "outputId": "294d4cd7-6c9c-4c1e-dfcf-654089ac9563"
      },
      "source": [
        "# 논리연산자 사용( &, | ~)\n",
        "c = a[(a > 5) & (a < 11)] # and\n",
        "print(c)\n",
        "d=a[(a > 9) | (a < 5)]  # or\n",
        "print(d)\n",
        "e=a[~(a%3==0)] # not\n",
        "print(e)"
      ],
      "execution_count": null,
      "outputs": [
        {
          "output_type": "stream",
          "name": "stdout",
          "text": [
            "[ 6  7  8  9 10]\n",
            "[ 0  1  2  3  4 10]\n",
            "[ 1  2  4  5  7  8 10]\n"
          ]
        }
      ]
    },
    {
      "cell_type": "markdown",
      "metadata": {
        "id": "LMgeRBwYz6Yr"
      },
      "source": [
        "# 배열연산"
      ]
    },
    {
      "cell_type": "markdown",
      "metadata": {
        "id": "7m1G-gMsz8e6"
      },
      "source": [
        "## 산술연산"
      ]
    },
    {
      "cell_type": "code",
      "metadata": {
        "colab": {
          "base_uri": "https://localhost:8080/"
        },
        "id": "SoZ5vRSYz-Fw",
        "outputId": "b1cb5369-8049-4ee4-db4c-185e63530c88"
      },
      "source": [
        "a=np.arange(1,11)\n",
        "b=np.arange(1,11)\n",
        "print(a+b)\n",
        "print(np.add(a,b)) # 덧셈함수\n",
        "print(a-b)\n",
        "print(np.subtract(a,b)) # 뺄셈함수\n",
        "print(a*b)\n",
        "print(np.multiply(a,b)) # 곱셈함수\n",
        "print(a/b)\n",
        "print(np.divide(a,b)) # 나눗셈함수"
      ],
      "execution_count": null,
      "outputs": [
        {
          "output_type": "stream",
          "name": "stdout",
          "text": [
            "[ 2  4  6  8 10 12 14 16 18 20]\n",
            "[ 2  4  6  8 10 12 14 16 18 20]\n",
            "[0 0 0 0 0 0 0 0 0 0]\n",
            "[0 0 0 0 0 0 0 0 0 0]\n",
            "[  1   4   9  16  25  36  49  64  81 100]\n",
            "[  1   4   9  16  25  36  49  64  81 100]\n",
            "[1. 1. 1. 1. 1. 1. 1. 1. 1. 1.]\n",
            "[1. 1. 1. 1. 1. 1. 1. 1. 1. 1.]\n"
          ]
        }
      ]
    },
    {
      "cell_type": "code",
      "metadata": {
        "colab": {
          "base_uri": "https://localhost:8080/"
        },
        "id": "MTdjlH4Y112I",
        "outputId": "a69967bc-4242-422a-f8b5-d4e3a4b96e9b"
      },
      "source": [
        "a=np.arange(1,11)\n",
        "print(np.exp(a))\n",
        "print(np.sqrt(a))\n",
        "print(np.sin(a))\n",
        "print(np.cos(a))\n",
        "print(np.tan(a))\n",
        "print(np.log(a))"
      ],
      "execution_count": null,
      "outputs": [
        {
          "output_type": "stream",
          "name": "stdout",
          "text": [
            "[2.71828183e+00 7.38905610e+00 2.00855369e+01 5.45981500e+01\n",
            " 1.48413159e+02 4.03428793e+02 1.09663316e+03 2.98095799e+03\n",
            " 8.10308393e+03 2.20264658e+04]\n",
            "[1.         1.41421356 1.73205081 2.         2.23606798 2.44948974\n",
            " 2.64575131 2.82842712 3.         3.16227766]\n",
            "[ 0.84147098  0.90929743  0.14112001 -0.7568025  -0.95892427 -0.2794155\n",
            "  0.6569866   0.98935825  0.41211849 -0.54402111]\n",
            "[ 0.54030231 -0.41614684 -0.9899925  -0.65364362  0.28366219  0.96017029\n",
            "  0.75390225 -0.14550003 -0.91113026 -0.83907153]\n",
            "[ 1.55740772 -2.18503986 -0.14254654  1.15782128 -3.38051501 -0.29100619\n",
            "  0.87144798 -6.79971146 -0.45231566  0.64836083]\n",
            "[0.         0.69314718 1.09861229 1.38629436 1.60943791 1.79175947\n",
            " 1.94591015 2.07944154 2.19722458 2.30258509]\n"
          ]
        }
      ]
    },
    {
      "cell_type": "code",
      "metadata": {
        "colab": {
          "base_uri": "https://localhost:8080/"
        },
        "id": "dQ_Eo5E52PmO",
        "outputId": "3635d289-8b77-481f-cb02-85021ece1407"
      },
      "source": [
        "# 합계 : [ndarray 배열 객체].sum(), np.sum()\n",
        "a=np.arange(1,10).reshape(3,3)\n",
        "print(a.sum())\n",
        "print(np.sum(a))\n",
        "print(a)\n",
        "b=a.sum(axis=0)\n",
        "print(b)\n",
        "c=a.sum(axis=1)\n",
        "print(c)"
      ],
      "execution_count": null,
      "outputs": [
        {
          "output_type": "stream",
          "name": "stdout",
          "text": [
            "45\n",
            "45\n",
            "[[1 2 3]\n",
            " [4 5 6]\n",
            " [7 8 9]]\n",
            "[12 15 18]\n",
            "[ 6 15 24]\n"
          ]
        }
      ]
    },
    {
      "cell_type": "code",
      "metadata": {
        "colab": {
          "base_uri": "https://localhost:8080/"
        },
        "id": "CII2pWumAljL",
        "outputId": "f873bf6b-f94b-42e8-9747-d3219dd44033"
      },
      "source": [
        "# 최대값 : [ndarray 배열 객체].max(), np.max()\n",
        "a=np.arange(1,10).reshape(3,3)\n",
        "print(a)\n",
        "print(a.max(),np.max(a))\n",
        "print(a.max(axis=0), np.max(a,axis=0))\n",
        "print(a.max(axis=1),np.max(a,axis=1))"
      ],
      "execution_count": null,
      "outputs": [
        {
          "output_type": "stream",
          "name": "stdout",
          "text": [
            "[[1 2 3]\n",
            " [4 5 6]\n",
            " [7 8 9]]\n",
            "9 9\n",
            "[7 8 9] [7 8 9]\n",
            "[3 6 9] [3 6 9]\n"
          ]
        }
      ]
    },
    {
      "cell_type": "code",
      "metadata": {
        "colab": {
          "base_uri": "https://localhost:8080/"
        },
        "id": "DLuFCVEmB0M4",
        "outputId": "497c5e04-95c0-4dd9-ae5d-eec30aa35301"
      },
      "source": [
        "# 최소값 : [ndarray 배열 객체].min(), np.min()\n",
        "a=np.arange(1,10).reshape(3,3)\n",
        "print(a)\n",
        "print(a.min(),np.min(a))\n",
        "print(a.min(axis=0), np.min(a,axis=0))\n",
        "print(a.min(axis=1),np.min(a,axis=1))"
      ],
      "execution_count": null,
      "outputs": [
        {
          "output_type": "stream",
          "name": "stdout",
          "text": [
            "[[1 2 3]\n",
            " [4 5 6]\n",
            " [7 8 9]]\n",
            "1 1\n",
            "[1 2 3] [1 2 3]\n",
            "[1 4 7] [1 4 7]\n"
          ]
        }
      ]
    },
    {
      "cell_type": "code",
      "metadata": {
        "colab": {
          "base_uri": "https://localhost:8080/"
        },
        "id": "BSyEQSy8CQc3",
        "outputId": "50709685-29bf-4347-8b00-024a1eecf4de"
      },
      "source": [
        "# 평균과 중앙값\n",
        "a=np.arange(1,10).reshape(3,3)\n",
        "print(a)\n",
        "print(a.mean(),np.mean(a))\n",
        "print(a.mean(axis=0),np.mean(a,axis=0))\n",
        "print(a.mean(axis=1),np.mean(a,axis=1))\n",
        "print(np.median(a)) # 중앙값"
      ],
      "execution_count": null,
      "outputs": [
        {
          "output_type": "stream",
          "name": "stdout",
          "text": [
            "[[1 2 3]\n",
            " [4 5 6]\n",
            " [7 8 9]]\n",
            "5.0 5.0\n",
            "[4. 5. 6.] [4. 5. 6.]\n",
            "[2. 5. 8.] [2. 5. 8.]\n",
            "5.0\n"
          ]
        }
      ]
    },
    {
      "cell_type": "code",
      "metadata": {
        "colab": {
          "base_uri": "https://localhost:8080/"
        },
        "id": "y2IhxQ6dDm__",
        "outputId": "11e48431-f38c-49d4-88bc-9e505dd6cd32"
      },
      "source": [
        "# 표준편차\n",
        "a=np.arange(1,10).reshape(3,3)\n",
        "print(a)\n",
        "print(a.std(), np.std(a))\n",
        "print(a.std(axis=0), np.std(a,axis=0))\n",
        "print(a.std(axis=1), np.std(a,axis=1))"
      ],
      "execution_count": null,
      "outputs": [
        {
          "output_type": "stream",
          "name": "stdout",
          "text": [
            "[[1 2 3]\n",
            " [4 5 6]\n",
            " [7 8 9]]\n",
            "2.581988897471611 2.581988897471611\n",
            "[2.44948974 2.44948974 2.44948974] [2.44948974 2.44948974 2.44948974]\n",
            "[0.81649658 0.81649658 0.81649658] [0.81649658 0.81649658 0.81649658]\n"
          ]
        }
      ]
    },
    {
      "cell_type": "code",
      "metadata": {
        "colab": {
          "base_uri": "https://localhost:8080/"
        },
        "id": "FeXiESsVF6-k",
        "outputId": "a12aef24-17d9-4002-8c59-4c0cbc1bbc3c"
      },
      "source": [
        "# 브로드캐스팅 사용하지 않은 경우\n",
        "x=np.array([1,2,3,4,5])\n",
        "y=np.array([1,1,1,1,1])\n",
        "print(x+y)\n",
        "# 브로드캐스팅을 사용한 경우\n",
        "y=1\n",
        "print(x+y)"
      ],
      "execution_count": null,
      "outputs": [
        {
          "output_type": "stream",
          "name": "stdout",
          "text": [
            "[2 3 4 5 6]\n",
            "[2 3 4 5 6]\n"
          ]
        }
      ]
    },
    {
      "cell_type": "code",
      "metadata": {
        "colab": {
          "base_uri": "https://localhost:8080/"
        },
        "id": "F0OU2eOVMcKx",
        "outputId": "25e3e7c7-03ad-44a0-b58e-087e665ee576"
      },
      "source": [
        "a=np.arange(1,25).reshape(4,6)\n",
        "print(a+100) # 브로드캐스팅"
      ],
      "execution_count": null,
      "outputs": [
        {
          "output_type": "stream",
          "name": "stdout",
          "text": [
            "[[101 102 103 104 105 106]\n",
            " [107 108 109 110 111 112]\n",
            " [113 114 115 116 117 118]\n",
            " [119 120 121 122 123 124]]\n"
          ]
        }
      ]
    },
    {
      "cell_type": "code",
      "metadata": {
        "colab": {
          "base_uri": "https://localhost:8080/"
        },
        "id": "QHmwJtJiM05Q",
        "outputId": "6e38a278-8932-42a5-8492-f22967caa2bf"
      },
      "source": [
        "# step1 : 스칼라 배열 변경\n",
        "new_arr=np.full_like(a,100)\n",
        "print(new_arr)\n",
        "# step2 : 배열 이항 연산\n",
        "print(a+new_arr)"
      ],
      "execution_count": null,
      "outputs": [
        {
          "output_type": "stream",
          "name": "stdout",
          "text": [
            "[[100 100 100 100 100 100]\n",
            " [100 100 100 100 100 100]\n",
            " [100 100 100 100 100 100]\n",
            " [100 100 100 100 100 100]]\n",
            "[[101 102 103 104 105 106]\n",
            " [107 108 109 110 111 112]\n",
            " [113 114 115 116 117 118]\n",
            " [119 120 121 122 123 124]]\n"
          ]
        }
      ]
    },
    {
      "cell_type": "code",
      "metadata": {
        "colab": {
          "base_uri": "https://localhost:8080/"
        },
        "id": "YFz_M5KsN6Qj",
        "outputId": "449ea1a6-dca8-4e90-aa83-327bfc3365ec"
      },
      "source": [
        "a = np.arange(5).reshape((1, 5))\n",
        "print(a)\n",
        "b = np.arange(5).reshape((5, 1))\n",
        "print(b)\n",
        "print(a+b) # 브로드캐스팅"
      ],
      "execution_count": null,
      "outputs": [
        {
          "output_type": "stream",
          "name": "stdout",
          "text": [
            "[[0 1 2 3 4]]\n",
            "[[0]\n",
            " [1]\n",
            " [2]\n",
            " [3]\n",
            " [4]]\n",
            "[[0 1 2 3 4]\n",
            " [1 2 3 4 5]\n",
            " [2 3 4 5 6]\n",
            " [3 4 5 6 7]\n",
            " [4 5 6 7 8]]\n"
          ]
        }
      ]
    },
    {
      "cell_type": "code",
      "metadata": {
        "colab": {
          "base_uri": "https://localhost:8080/"
        },
        "id": "3rv95kRMPGHq",
        "outputId": "65e732da-91bc-467b-a440-31e69029ca93"
      },
      "source": [
        "import numpy as np\n",
        "import time\n",
        "\n",
        "a = np.arange(10000000)\n",
        "result = 0\n",
        "s=time.time()\n",
        "for v in a:\n",
        "  result += v\n",
        "e=time.time()\n",
        "print(result, e-s) # \n",
        "s=time.time()\n",
        "result=np.sum(a)\n",
        "e=time.time()\n",
        "print(result, e-s) # 백터연산 "
      ],
      "execution_count": null,
      "outputs": [
        {
          "output_type": "stream",
          "name": "stdout",
          "text": [
            "49999995000000 3.0021324157714844\n",
            "49999995000000 0.010520219802856445\n"
          ]
        }
      ]
    },
    {
      "cell_type": "markdown",
      "metadata": {
        "id": "V9CshcYdR0x0"
      },
      "source": [
        "# 배열변환"
      ]
    },
    {
      "cell_type": "markdown",
      "metadata": {
        "id": "1ru2qAZgR3oa"
      },
      "source": [
        "## 전치행렬"
      ]
    },
    {
      "cell_type": "code",
      "metadata": {
        "colab": {
          "base_uri": "https://localhost:8080/"
        },
        "id": "ySfQ19JZR5me",
        "outputId": "b06fa2a7-9dbd-4e27-d278-29909a07eca8"
      },
      "source": [
        "a = np.random.randint(1,10,(3,3))\n",
        "print(a)\n",
        "print(a.T) # 전치행렬"
      ],
      "execution_count": null,
      "outputs": [
        {
          "output_type": "stream",
          "name": "stdout",
          "text": [
            "[[8 3 9]\n",
            " [5 9 8]\n",
            " [7 3 9]]\n",
            "[[8 5 7]\n",
            " [3 9 3]\n",
            " [9 8 9]]\n"
          ]
        }
      ]
    },
    {
      "cell_type": "markdown",
      "metadata": {
        "id": "tB-OeQF4TOf0"
      },
      "source": [
        "## 배열형태 변환"
      ]
    },
    {
      "cell_type": "code",
      "metadata": {
        "colab": {
          "base_uri": "https://localhost:8080/"
        },
        "id": "gQBf5D4STQyq",
        "outputId": "48ea49d7-8b9e-4f95-8940-e7f6b1662ff6"
      },
      "source": [
        "a = np.array([[1,2,3],[4,5,6]])\n",
        "print(a)\n",
        "a.ravel()\n",
        "b=a.ravel()\n",
        "b[0]=10\n",
        "print(b)\n",
        "print(a) # b 배열 변경이 a 행렬에 반영됨"
      ],
      "execution_count": null,
      "outputs": [
        {
          "output_type": "stream",
          "name": "stdout",
          "text": [
            "[[1 2 3]\n",
            " [4 5 6]]\n",
            "[10  2  3  4  5  6]\n",
            "[[10  2  3]\n",
            " [ 4  5  6]]\n"
          ]
        }
      ]
    },
    {
      "cell_type": "code",
      "metadata": {
        "colab": {
          "base_uri": "https://localhost:8080/"
        },
        "id": "ZgucbgHhUcux",
        "outputId": "6e6777e0-29fe-46eb-a55a-53723b0772e3"
      },
      "source": [
        "x=np.arange(20)\n",
        "y=x.reshape(4,5)\n",
        "print(y)\n",
        "x[0]=10\n",
        "print(x)\n",
        "print(y) "
      ],
      "execution_count": null,
      "outputs": [
        {
          "output_type": "stream",
          "name": "stdout",
          "text": [
            "[[ 0  1  2  3  4]\n",
            " [ 5  6  7  8  9]\n",
            " [10 11 12 13 14]\n",
            " [15 16 17 18 19]]\n",
            "[10  1  2  3  4  5  6  7  8  9 10 11 12 13 14 15 16 17 18 19]\n",
            "[[10  1  2  3  4]\n",
            " [ 5  6  7  8  9]\n",
            " [10 11 12 13 14]\n",
            " [15 16 17 18 19]]\n"
          ]
        }
      ]
    },
    {
      "cell_type": "code",
      "source": [
        "list_data = [1,2,3,4,5,6]\n",
        "list_data.reshape(3,2)\n"
      ],
      "metadata": {
        "id": "A-W2xDLPuKoK",
        "outputId": "ee1f0628-61c6-495d-bbc1-64d5b6786167",
        "colab": {
          "base_uri": "https://localhost:8080/",
          "height": 182
        }
      },
      "execution_count": null,
      "outputs": [
        {
          "output_type": "error",
          "ename": "AttributeError",
          "evalue": "ignored",
          "traceback": [
            "\u001b[0;31m---------------------------------------------------------------------------\u001b[0m",
            "\u001b[0;31mAttributeError\u001b[0m                            Traceback (most recent call last)",
            "\u001b[0;32m<ipython-input-55-e7806ada173d>\u001b[0m in \u001b[0;36m<module>\u001b[0;34m()\u001b[0m\n\u001b[1;32m      1\u001b[0m \u001b[0mlist_data\u001b[0m \u001b[0;34m=\u001b[0m \u001b[0;34m[\u001b[0m\u001b[0;36m1\u001b[0m\u001b[0;34m,\u001b[0m\u001b[0;36m2\u001b[0m\u001b[0;34m,\u001b[0m\u001b[0;36m3\u001b[0m\u001b[0;34m,\u001b[0m\u001b[0;36m4\u001b[0m\u001b[0;34m,\u001b[0m\u001b[0;36m5\u001b[0m\u001b[0;34m,\u001b[0m\u001b[0;36m6\u001b[0m\u001b[0;34m]\u001b[0m\u001b[0;34m\u001b[0m\u001b[0;34m\u001b[0m\u001b[0m\n\u001b[0;32m----> 2\u001b[0;31m \u001b[0mlist_data\u001b[0m\u001b[0;34m.\u001b[0m\u001b[0mreshape\u001b[0m\u001b[0;34m(\u001b[0m\u001b[0;36m3\u001b[0m\u001b[0;34m,\u001b[0m\u001b[0;36m2\u001b[0m\u001b[0;34m)\u001b[0m\u001b[0;34m\u001b[0m\u001b[0;34m\u001b[0m\u001b[0m\n\u001b[0m",
            "\u001b[0;31mAttributeError\u001b[0m: 'list' object has no attribute 'reshape'"
          ]
        }
      ]
    },
    {
      "cell_type": "code",
      "metadata": {
        "colab": {
          "base_uri": "https://localhost:8080/"
        },
        "id": "i-UpV4NLW2CR",
        "outputId": "b355d84e-b467-442d-8208-6adc7adad041"
      },
      "source": [
        "list_data = [1,2,3,4,5,6]\n",
        "#list_data.reshape(3,2)\n",
        "data=np.array(list_data)\n",
        "type(data)\n",
        "print(data.reshape(3,2))\n",
        "print(list_data)"
      ],
      "execution_count": null,
      "outputs": [
        {
          "output_type": "stream",
          "name": "stdout",
          "text": [
            "[[1 2]\n",
            " [3 4]\n",
            " [5 6]]\n",
            "[1, 2, 3, 4, 5, 6]\n"
          ]
        }
      ]
    },
    {
      "cell_type": "code",
      "source": [
        "import numpy as np"
      ],
      "metadata": {
        "id": "rmLsWZBborOu"
      },
      "execution_count": null,
      "outputs": []
    },
    {
      "cell_type": "markdown",
      "source": [
        "## 배열 요소 추가/삭제"
      ],
      "metadata": {
        "id": "it7Khk_jomiP"
      }
    },
    {
      "cell_type": "code",
      "source": [
        "x=np.arange(20)\n",
        "y=np.resize(x,(5,4))\n",
        "y"
      ],
      "metadata": {
        "colab": {
          "base_uri": "https://localhost:8080/"
        },
        "id": "AYUsTxinopJv",
        "outputId": "09502b89-702a-429d-c14d-61f46975776e"
      },
      "execution_count": null,
      "outputs": [
        {
          "output_type": "execute_result",
          "data": {
            "text/plain": [
              "array([[ 0,  1,  2,  3],\n",
              "       [ 4,  5,  6,  7],\n",
              "       [ 8,  9, 10, 11],\n",
              "       [12, 13, 14, 15],\n",
              "       [16, 17, 18, 19]])"
            ]
          },
          "metadata": {},
          "execution_count": 70
        }
      ]
    },
    {
      "cell_type": "code",
      "source": [
        "x=np.arange(20)\n",
        "y=np.resize(x,(5,6))\n",
        "y"
      ],
      "metadata": {
        "colab": {
          "base_uri": "https://localhost:8080/"
        },
        "id": "7t2yRLUcuYi0",
        "outputId": "dac778e7-bb9a-4437-b9bd-8b259ad95b81"
      },
      "execution_count": null,
      "outputs": [
        {
          "output_type": "execute_result",
          "data": {
            "text/plain": [
              "array([[ 0,  1,  2,  3,  4,  5],\n",
              "       [ 6,  7,  8,  9, 10, 11],\n",
              "       [12, 13, 14, 15, 16, 17],\n",
              "       [18, 19,  0,  1,  2,  3],\n",
              "       [ 4,  5,  6,  7,  8,  9]])"
            ]
          },
          "metadata": {},
          "execution_count": 71
        }
      ]
    },
    {
      "cell_type": "code",
      "source": [
        "x=np.arange(20)\n",
        "y=np.resize(x,(5,3))\n",
        "y"
      ],
      "metadata": {
        "colab": {
          "base_uri": "https://localhost:8080/"
        },
        "id": "qz6o5s-Iu2uC",
        "outputId": "0f8360d7-1843-431b-a9fa-5d11caa8dd0f"
      },
      "execution_count": null,
      "outputs": [
        {
          "output_type": "execute_result",
          "data": {
            "text/plain": [
              "array([[ 0,  1,  2],\n",
              "       [ 3,  4,  5],\n",
              "       [ 6,  7,  8],\n",
              "       [ 9, 10, 11],\n",
              "       [12, 13, 14]])"
            ]
          },
          "metadata": {},
          "execution_count": 72
        }
      ]
    },
    {
      "cell_type": "code",
      "source": [
        "x=np.arange(20)\n",
        "y=np.resize(x,(4,5))\n",
        "print(y)\n",
        "x[0]=10\n",
        "print(x)\n",
        "print(y)"
      ],
      "metadata": {
        "colab": {
          "base_uri": "https://localhost:8080/"
        },
        "id": "65hYhxuBviLe",
        "outputId": "091739e3-656d-4ec1-95c1-279fd6c55fba"
      },
      "execution_count": null,
      "outputs": [
        {
          "output_type": "stream",
          "name": "stdout",
          "text": [
            "[[ 0  1  2  3  4]\n",
            " [ 5  6  7  8  9]\n",
            " [10 11 12 13 14]\n",
            " [15 16 17 18 19]]\n",
            "[10  1  2  3  4  5  6  7  8  9 10 11 12 13 14 15 16 17 18 19]\n",
            "[[ 0  1  2  3  4]\n",
            " [ 5  6  7  8  9]\n",
            " [10 11 12 13 14]\n",
            " [15 16 17 18 19]]\n"
          ]
        }
      ]
    },
    {
      "cell_type": "code",
      "source": [
        "a = np.arange(3)\n",
        "b = np.append(a, 3)\n",
        "print(b)"
      ],
      "metadata": {
        "colab": {
          "base_uri": "https://localhost:8080/"
        },
        "id": "eWBu4o_fyKje",
        "outputId": "1472ffb0-65fb-476c-987a-298e06f2a39e"
      },
      "execution_count": null,
      "outputs": [
        {
          "output_type": "stream",
          "name": "stdout",
          "text": [
            "[0 1 2 3]\n"
          ]
        }
      ]
    },
    {
      "cell_type": "code",
      "source": [
        "a = np.array([[1, 2, 3], [4, 5, 6]])\n",
        "b = np.array([[7, 8, 9]])\n",
        "c = np.append(a, b)\n",
        "print(c)"
      ],
      "metadata": {
        "colab": {
          "base_uri": "https://localhost:8080/"
        },
        "id": "2BgudC0J0_-R",
        "outputId": "7973569a-7244-4171-c9c9-2d15e292d288"
      },
      "execution_count": null,
      "outputs": [
        {
          "output_type": "stream",
          "name": "stdout",
          "text": [
            "[1 2 3 4 5 6 7 8 9]\n"
          ]
        }
      ]
    },
    {
      "cell_type": "code",
      "source": [
        "# 축 지정하기\n",
        "a = np.array([[1, 2, 3], [4, 5, 6]])\n",
        "b = np.array([[7, 8, 9]])\n",
        "c = np.append(a, b, axis=0)\n",
        "print(c)"
      ],
      "metadata": {
        "colab": {
          "base_uri": "https://localhost:8080/"
        },
        "id": "ZUcxoYRo1dmv",
        "outputId": "a6fb5b5e-719a-4077-98e1-7b055625a81f"
      },
      "execution_count": null,
      "outputs": [
        {
          "output_type": "stream",
          "name": "stdout",
          "text": [
            "[[1 2 3]\n",
            " [4 5 6]\n",
            " [7 8 9]]\n"
          ]
        }
      ]
    },
    {
      "cell_type": "code",
      "source": [
        "# insert 함수\n",
        "a = np.array([1, 2, 3])\n",
        "b = np.insert(a, 1, 5)\n",
        "\n",
        "print(a)\n",
        "print(b)"
      ],
      "metadata": {
        "colab": {
          "base_uri": "https://localhost:8080/"
        },
        "id": "KIL26JQ82lsA",
        "outputId": "b6405613-71bf-4d04-d28a-b471ab714c21"
      },
      "execution_count": null,
      "outputs": [
        {
          "output_type": "stream",
          "name": "stdout",
          "text": [
            "[1 2 3]\n",
            "[1 5 2 3]\n"
          ]
        }
      ]
    },
    {
      "cell_type": "code",
      "source": [
        "a = np.array([[1, 1], [2, 2], [3, 3]])\n",
        "b = np.insert(a, 1, 5)\n",
        "print(a)\n",
        "print(b)"
      ],
      "metadata": {
        "colab": {
          "base_uri": "https://localhost:8080/"
        },
        "id": "FEiTbuRo3aoQ",
        "outputId": "9f252722-0251-466f-cad6-e969b2b63032"
      },
      "execution_count": null,
      "outputs": [
        {
          "output_type": "stream",
          "name": "stdout",
          "text": [
            "[[1 1]\n",
            " [2 2]\n",
            " [3 3]]\n",
            "[1 5 1 2 2 3 3]\n"
          ]
        }
      ]
    },
    {
      "cell_type": "code",
      "source": [
        "# 축 지정하기\n",
        "a = np.array([[1, 1], [2, 2], [3, 3]])\n",
        "b = np.insert(a, 1, 5, axis=0)\n",
        "c = np.insert(a, 1, 5, axis=1)\n",
        "print(a)\n",
        "print(b)\n",
        "print(c)"
      ],
      "metadata": {
        "colab": {
          "base_uri": "https://localhost:8080/"
        },
        "id": "FB6TuK4D4Z-h",
        "outputId": "6d043a8c-6cab-43ca-872b-cc0d027ee536"
      },
      "execution_count": null,
      "outputs": [
        {
          "output_type": "stream",
          "name": "stdout",
          "text": [
            "[[1 1]\n",
            " [2 2]\n",
            " [3 3]]\n",
            "[[1 1]\n",
            " [5 5]\n",
            " [2 2]\n",
            " [3 3]]\n",
            "[[1 5 1]\n",
            " [2 5 2]\n",
            " [3 5 3]]\n"
          ]
        }
      ]
    },
    {
      "cell_type": "code",
      "source": [
        "# 값 삭제하기\n",
        "a = np.arange(12).reshape(3,4)\n",
        "print(a)\n",
        "print(np.delete(a, 5))"
      ],
      "metadata": {
        "colab": {
          "base_uri": "https://localhost:8080/"
        },
        "id": "veGqye396vX2",
        "outputId": "acf339c5-5112-4e75-b779-7742d2312227"
      },
      "execution_count": null,
      "outputs": [
        {
          "output_type": "stream",
          "name": "stdout",
          "text": [
            "[[ 0  1  2  3]\n",
            " [ 4  5  6  7]\n",
            " [ 8  9 10 11]]\n",
            "[ 0  1  2  3  4  6  7  8  9 10 11]\n"
          ]
        }
      ]
    },
    {
      "cell_type": "code",
      "source": [
        "a = np.arange(12).reshape(3,4)\n",
        "print(a)\n",
        "print(np.delete(a, 1, axis=0))\n",
        "print(np.delete(a, 1, axis=1))"
      ],
      "metadata": {
        "colab": {
          "base_uri": "https://localhost:8080/"
        },
        "id": "uYbT-YDx7JUG",
        "outputId": "bb6c212c-ee11-4a0c-c701-5e91039dd6fc"
      },
      "execution_count": null,
      "outputs": [
        {
          "output_type": "stream",
          "name": "stdout",
          "text": [
            "[[ 0  1  2  3]\n",
            " [ 4  5  6  7]\n",
            " [ 8  9 10 11]]\n",
            "[[ 0  1  2  3]\n",
            " [ 8  9 10 11]]\n",
            "[[ 0  2  3]\n",
            " [ 4  6  7]\n",
            " [ 8 10 11]]\n"
          ]
        }
      ]
    },
    {
      "cell_type": "markdown",
      "source": [
        "## 배열결합하기"
      ],
      "metadata": {
        "id": "5j5oqa199B17"
      }
    },
    {
      "cell_type": "code",
      "source": [
        "a1 = np.array([1, 2, 3])\n",
        "a2 = np.array([4, 5, 6])\n",
        "arr = np.concatenate((a1, a2))\n",
        "print(arr)"
      ],
      "metadata": {
        "colab": {
          "base_uri": "https://localhost:8080/"
        },
        "id": "g89r0fLp9DnT",
        "outputId": "e69a5a94-d50f-4c53-f02f-1429ca2dacae"
      },
      "execution_count": null,
      "outputs": [
        {
          "output_type": "stream",
          "name": "stdout",
          "text": [
            "[1 2 3 4 5 6]\n"
          ]
        }
      ]
    },
    {
      "cell_type": "code",
      "source": [
        "a1 = np.array([[1, 2, 3]])\n",
        "a2 = np.array([[4, 5, 6]])\n",
        "axis0 = np.concatenate((a1, a2), axis=0)\n",
        "axis1 = np.concatenate((a1, a2), axis=1)\n",
        "print(axis0)\n",
        "print(axis1)"
      ],
      "metadata": {
        "colab": {
          "base_uri": "https://localhost:8080/"
        },
        "id": "P063SzyI9xmj",
        "outputId": "b4445316-5919-4767-92af-f450ee928fd4"
      },
      "execution_count": null,
      "outputs": [
        {
          "output_type": "stream",
          "name": "stdout",
          "text": [
            "[[1 2 3]\n",
            " [4 5 6]]\n",
            "[[1 2 3 4 5 6]]\n"
          ]
        }
      ]
    },
    {
      "cell_type": "code",
      "source": [
        "# 수직 방향 배열 결합\n",
        "a1 = np.array([1, 2, 3])\n",
        "a2 = np.array([4, 5, 6])\n",
        "np.vstack((a1,a2))"
      ],
      "metadata": {
        "colab": {
          "base_uri": "https://localhost:8080/"
        },
        "id": "lNU34yFo_k-Y",
        "outputId": "acd0b950-ddb7-4d4c-9959-9036f21ed440"
      },
      "execution_count": null,
      "outputs": [
        {
          "output_type": "execute_result",
          "data": {
            "text/plain": [
              "array([[1, 2, 3],\n",
              "       [4, 5, 6]])"
            ]
          },
          "metadata": {},
          "execution_count": 114
        }
      ]
    },
    {
      "cell_type": "code",
      "source": [
        "# 수평 방향 배열 결합\n",
        "a1 = np.array([1, 2, 3])\n",
        "a2 = np.array([4, 5, 6])\n",
        "np.hstack((a1,a2))"
      ],
      "metadata": {
        "colab": {
          "base_uri": "https://localhost:8080/"
        },
        "id": "EZlZUpdLBFnZ",
        "outputId": "0301b812-680a-43f3-fbf0-19c986dd99ad"
      },
      "execution_count": null,
      "outputs": [
        {
          "output_type": "execute_result",
          "data": {
            "text/plain": [
              "array([1, 2, 3, 4, 5, 6])"
            ]
          },
          "metadata": {},
          "execution_count": 113
        }
      ]
    },
    {
      "cell_type": "code",
      "source": [
        "a = np.arange(16).reshape(4, 4)\n",
        "a_hsplit = np.hsplit(a, 2)\n",
        "print(a)\n",
        "print(a_hsplit)"
      ],
      "metadata": {
        "colab": {
          "base_uri": "https://localhost:8080/"
        },
        "id": "ntlrVasdCxws",
        "outputId": "56c2c598-36e7-4869-f9eb-a494f2f91b1b"
      },
      "execution_count": null,
      "outputs": [
        {
          "output_type": "stream",
          "name": "stdout",
          "text": [
            "[[ 0  1  2  3]\n",
            " [ 4  5  6  7]\n",
            " [ 8  9 10 11]\n",
            " [12 13 14 15]]\n",
            "[array([[ 0,  1],\n",
            "       [ 4,  5],\n",
            "       [ 8,  9],\n",
            "       [12, 13]]), array([[ 2,  3],\n",
            "       [ 6,  7],\n",
            "       [10, 11],\n",
            "       [14, 15]])]\n"
          ]
        }
      ]
    },
    {
      "cell_type": "code",
      "source": [
        "a = np.arange(16).reshape(4, 4)\n",
        "a_vsplit = np.vsplit(a, 2)\n",
        "print(a)\n",
        "print(a_vsplit)"
      ],
      "metadata": {
        "colab": {
          "base_uri": "https://localhost:8080/"
        },
        "id": "KYQhCb0eDl5i",
        "outputId": "bb52e331-b955-45dc-95db-a271d4936daa"
      },
      "execution_count": null,
      "outputs": [
        {
          "output_type": "stream",
          "name": "stdout",
          "text": [
            "[[ 0  1  2  3]\n",
            " [ 4  5  6  7]\n",
            " [ 8  9 10 11]\n",
            " [12 13 14 15]]\n",
            "[array([[0, 1, 2, 3],\n",
            "       [4, 5, 6, 7]]), array([[ 8,  9, 10, 11],\n",
            "       [12, 13, 14, 15]])]\n"
          ]
        }
      ]
    }
  ]
}
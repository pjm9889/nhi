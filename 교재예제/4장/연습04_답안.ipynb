{
  "nbformat": 4,
  "nbformat_minor": 0,
  "metadata": {
    "colab": {
      "provenance": [],
      "toc_visible": true
    },
    "kernelspec": {
      "name": "python3",
      "display_name": "Python 3"
    },
    "language_info": {
      "name": "python"
    }
  },
  "cells": [
    {
      "cell_type": "markdown",
      "source": [
        "# 문제1"
      ],
      "metadata": {
        "id": "eskhWn6_vWVC"
      }
    },
    {
      "cell_type": "code",
      "source": [
        "#  문제1 : 다음은 1부터 10까지 1차원 배열을 생성하고 배열의 속성을 알아보는 프로그램이다. 실행결과를 보고 빈곳에 가장 알맞은 속성을 쓰시오.\n",
        "arr=np.arange(1,11)\n",
        "print(arr)\n",
        "print('ndim:',arr.ndim)  \n",
        "print('shape:',arr.shape) \n",
        "print('dtype:',arr.dtype) \n",
        "print('size:',arr.size) "
      ],
      "metadata": {
        "colab": {
          "base_uri": "https://localhost:8080/"
        },
        "id": "KIY-npVVl5AY",
        "outputId": "44964666-787c-4cbe-d92c-7fd94d73ae1f"
      },
      "execution_count": null,
      "outputs": [
        {
          "output_type": "stream",
          "name": "stdout",
          "text": [
            "[ 1  2  3  4  5  6  7  8  9 10]\n",
            "ndim: 1\n",
            "shape: (10,)\n",
            "dtype: int64\n",
            "size: 10\n"
          ]
        }
      ]
    },
    {
      "cell_type": "markdown",
      "source": [
        "# 문제2"
      ],
      "metadata": {
        "id": "jx2Jnre_vY89"
      }
    },
    {
      "cell_type": "code",
      "execution_count": 2,
      "metadata": {
        "colab": {
          "base_uri": "https://localhost:8080/"
        },
        "id": "O4nI86wVgZ2R",
        "outputId": "89034b9b-992d-4809-9a54-383d274c7dfa"
      },
      "outputs": [
        {
          "output_type": "execute_result",
          "data": {
            "text/plain": [
              "array([49, 48, 47, 46, 45, 44, 43, 42, 41, 40, 39, 38, 37, 36, 35, 34, 33,\n",
              "       32, 31, 30, 29, 28, 27, 26, 25, 24, 23, 22, 21, 20, 19, 18, 17, 16,\n",
              "       15, 14, 13, 12, 11, 10])"
            ]
          },
          "metadata": {},
          "execution_count": 2
        }
      ],
      "source": [
        "#문제2\n",
        "#1 값이 10~50인 벡터를 만들고 벡터를 반전시켜 출력해보세요\n",
        "import numpy as np\n",
        "arr=np.arange(10,50)\n",
        "arr=arr[::-1]\n",
        "arr"
      ]
    },
    {
      "cell_type": "code",
      "source": [
        "#2. 랜덤 값이 있는 10x10 배열을 만들고 최대값과 최소값을 찾아보세요\n",
        "arr=np.random.random((10,10))\n",
        "max,min=arr.max(),arr.min()\n",
        "# print(arr)\n",
        "print(max,min)"
      ],
      "metadata": {
        "colab": {
          "base_uri": "https://localhost:8080/"
        },
        "id": "5t6B0LWYhNFg",
        "outputId": "acd03ad9-90b4-439c-ea46-c64cc4b7ae2d"
      },
      "execution_count": 3,
      "outputs": [
        {
          "output_type": "stream",
          "name": "stdout",
          "text": [
            "[[0.56003573 0.18100081 0.80609359 0.68010423 0.11187144 0.9830375\n",
            "  0.39016028 0.99848659 0.42123847 0.14612061]\n",
            " [0.38261507 0.02483605 0.65162411 0.98995    0.91978803 0.2783857\n",
            "  0.24316098 0.4706426  0.42933545 0.68067789]\n",
            " [0.21110652 0.3490768  0.93292787 0.84403133 0.37268325 0.55662167\n",
            "  0.12602514 0.79610422 0.63815013 0.57686111]\n",
            " [0.68732608 0.81588413 0.61535033 0.98179306 0.68135012 0.25698797\n",
            "  0.99995739 0.3333871  0.40930152 0.20976975]\n",
            " [0.45379031 0.60967683 0.33940343 0.78252137 0.58268225 0.3572979\n",
            "  0.90376249 0.68018671 0.24330327 0.37692822]\n",
            " [0.40347204 0.33922804 0.07263942 0.40340493 0.65958341 0.1954554\n",
            "  0.50212305 0.94425201 0.62267873 0.70861061]\n",
            " [0.50277904 0.56655184 0.85367996 0.50549918 0.19476139 0.27045227\n",
            "  0.6335057  0.22221845 0.71038105 0.59403056]\n",
            " [0.31821832 0.11747759 0.18566538 0.61956532 0.25353581 0.68435443\n",
            "  0.99997054 0.8838049  0.78822017 0.14271717]\n",
            " [0.33808225 0.99843607 0.47960271 0.78445398 0.04310566 0.61836298\n",
            "  0.32386745 0.42041917 0.87545836 0.58785898]\n",
            " [0.66886317 0.9913772  0.6277869  0.95421209 0.49503053 0.00432419\n",
            "  0.97228652 0.90071107 0.08069204 0.73829475]]\n",
            "0.9999705407237094 0.0043241861661831305\n"
          ]
        }
      ]
    },
    {
      "cell_type": "code",
      "source": [
        "#3. 0-8범위위 값을 사용하여 3x3 배열을 생성해보세요\n",
        "arr=np.arange(9).reshape(3,3)\n",
        "print(arr)"
      ],
      "metadata": {
        "colab": {
          "base_uri": "https://localhost:8080/"
        },
        "id": "D2T00QMBkXXp",
        "outputId": "4e9a7f4d-a8b0-4599-ab48-4ba6077f2caa"
      },
      "execution_count": null,
      "outputs": [
        {
          "output_type": "stream",
          "name": "stdout",
          "text": [
            "[[0 1 2]\n",
            " [3 4 5]\n",
            " [6 7 8]]\n"
          ]
        }
      ]
    },
    {
      "cell_type": "code",
      "source": [
        "#4-1. 다음과 같이 1에서 24까지의 값을 가지는 4x6 크기의 2차원 행렬 arr을 생성하세요\n",
        "arr=np.arange(1,25).reshape(4,6)\n",
        "arr"
      ],
      "metadata": {
        "colab": {
          "base_uri": "https://localhost:8080/"
        },
        "id": "brXoc84zlEo1",
        "outputId": "cf2aebe9-e807-44f5-be4b-51c8edd9ad58"
      },
      "execution_count": null,
      "outputs": [
        {
          "output_type": "execute_result",
          "data": {
            "text/plain": [
              "array([[ 1,  2,  3,  4,  5,  6],\n",
              "       [ 7,  8,  9, 10, 11, 12],\n",
              "       [13, 14, 15, 16, 17, 18],\n",
              "       [19, 20, 21, 22, 23, 24]])"
            ]
          },
          "metadata": {},
          "execution_count": 13
        }
      ]
    },
    {
      "cell_type": "code",
      "source": [
        "#4-2. arr배열에 슬라이싱을 적용하여 다음과 같은 값을 가지는 배열을 생성하시오.\n",
        "print(arr[1:3,1:5])"
      ],
      "metadata": {
        "colab": {
          "base_uri": "https://localhost:8080/"
        },
        "id": "WnhTMDYClbxb",
        "outputId": "78942884-ba6c-4d5e-aa21-0af969bbd09b"
      },
      "execution_count": null,
      "outputs": [
        {
          "output_type": "stream",
          "name": "stdout",
          "text": [
            "[[ 8  9 10 11]\n",
            " [14 15 16 17]]\n"
          ]
        }
      ]
    },
    {
      "cell_type": "code",
      "source": [
        "#4-3. arr배열에 슬라이싱을 적용하여 다음과 같은 값을 가지는 배열을 생성하시오.\n",
        "print(arr[2:,::-1])"
      ],
      "metadata": {
        "colab": {
          "base_uri": "https://localhost:8080/"
        },
        "id": "4je5OomPmz3V",
        "outputId": "25e85360-87e8-441f-d133-0017a225e1ac"
      },
      "execution_count": null,
      "outputs": [
        {
          "output_type": "stream",
          "name": "stdout",
          "text": [
            "[[18 17 16 15 14 13]\n",
            " [24 23 22 21 20 19]]\n"
          ]
        }
      ]
    },
    {
      "cell_type": "code",
      "source": [
        "#4-4. arr배열에서 2의 배수만 출력해보자.\n",
        "arr[arr%2==0]"
      ],
      "metadata": {
        "colab": {
          "base_uri": "https://localhost:8080/"
        },
        "id": "W4DaKKncnCn2",
        "outputId": "2f46e1b2-a2ad-4b0c-f19e-e6bd6fba5793"
      },
      "execution_count": null,
      "outputs": [
        {
          "output_type": "execute_result",
          "data": {
            "text/plain": [
              "array([ 2,  4,  6,  8, 10, 12, 14, 16, 18, 20, 22, 24])"
            ]
          },
          "metadata": {},
          "execution_count": 18
        }
      ]
    },
    {
      "cell_type": "code",
      "source": [
        "#4-5. arr배열에서 10부터20까지의 값만 출력해보자.\n",
        "result=arr[(arr>=10) & (arr<=20)]\n",
        "result"
      ],
      "metadata": {
        "colab": {
          "base_uri": "https://localhost:8080/"
        },
        "id": "YZ_vll_ZnQvN",
        "outputId": "253435ed-7154-4ad7-add1-317e34879c71"
      },
      "execution_count": null,
      "outputs": [
        {
          "output_type": "execute_result",
          "data": {
            "text/plain": [
              "array([10, 11, 12, 13, 14, 15, 16, 17, 18, 19, 20])"
            ]
          },
          "metadata": {},
          "execution_count": 22
        }
      ]
    },
    {
      "cell_type": "markdown",
      "source": [
        "# 문제3"
      ],
      "metadata": {
        "id": "v8wdu_Bjvcq9"
      }
    },
    {
      "cell_type": "code",
      "source": [
        "# 문제3\n",
        "import numpy as np\n",
        "arr=np.arange(1,21)\n",
        "print('마지막 원소:', arr[-1])\n",
        "print('모든원소의 합:',arr.sum())\n",
        "print('모든원소의 평균:',arr.mean())\n",
        "new_arr=arr.reshape(4,5) # 4행 5열의 배열로 변경\n",
        "print(new_arr)"
      ],
      "metadata": {
        "id": "JFk-jyu-d9C_",
        "colab": {
          "base_uri": "https://localhost:8080/"
        },
        "outputId": "112db26b-2894-4717-c678-eaed5135170a"
      },
      "execution_count": 4,
      "outputs": [
        {
          "output_type": "stream",
          "name": "stdout",
          "text": [
            "마지막 원소: 20\n",
            "모든원소의 합: 210\n",
            "모든원소의 평균: 10.5\n",
            "[[ 1  2  3  4  5]\n",
            " [ 6  7  8  9 10]\n",
            " [11 12 13 14 15]\n",
            " [16 17 18 19 20]]\n"
          ]
        }
      ]
    },
    {
      "cell_type": "markdown",
      "source": [
        "# 문제4"
      ],
      "metadata": {
        "id": "RTWI7V_5veey"
      }
    },
    {
      "cell_type": "code",
      "source": [
        "# 문제4\n",
        "import numpy as np\n",
        "salary=[200,150,180,220,250]\n",
        "new_salary=np.array(salary,dtype='float64') * 1.5\n",
        "print('인상된 금액 : ',new_salary)\n",
        "avg_salary=np.mean(new_salary)\n",
        "print('평균 금액 : ', avg_salary)\n",
        "result=new_salary>=avg_salary\n",
        "print('평균이상인 원소 : ', new_salary[result])\n",
        "print('평균이상인 원소의 개수 : ',new_salary[result].size)"
      ],
      "metadata": {
        "id": "H5zV_wE6eEzn",
        "colab": {
          "base_uri": "https://localhost:8080/"
        },
        "outputId": "b9f2282f-7324-488d-d009-d821e56efca4"
      },
      "execution_count": 5,
      "outputs": [
        {
          "output_type": "stream",
          "name": "stdout",
          "text": [
            "인상된 금액 :  [300. 225. 270. 330. 375.]\n",
            "평균 금액 :  300.0\n",
            "평균이상인 원소 :  [300. 330. 375.]\n",
            "평균이상인 원소의 개수 :  3\n"
          ]
        }
      ]
    }
  ]
}
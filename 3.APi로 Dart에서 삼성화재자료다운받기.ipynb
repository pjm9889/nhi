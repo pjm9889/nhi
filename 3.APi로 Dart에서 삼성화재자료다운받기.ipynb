{
 "cells": [
  {
   "cell_type": "code",
   "execution_count": null,
   "id": "cfe2a9a0",
   "metadata": {},
   "outputs": [
    {
     "name": "stdout",
     "output_type": "stream",
     "text": [
      "dict_keys(['status', 'message', 'page_no', 'page_count', 'total_count', 'total_page', 'list'])\n"
     ]
    }
   ],
   "source": [
    "\n",
    "import requests\n",
    "import pandas as pd\n",
    "\n",
    "# 1. 파라미터 설정\n",
    "api_key = 'c8d2b413072cd926b74494023c38f0ae2b2c21f9'\n",
    "corp_code = '00139214'  # 삼성화재\n",
    "start_date = '20230401'\n",
    "end_date = '20250507'\n",
    "cnt = 100\n",
    "\n",
    "# 2. URL 및 params 정의\n",
    "# url을 param으로 작업하면 가독성이 좋음\n",
    "url = 'https://opendart.fss.or.kr/api/list.json'\n",
    "paramsData = {\n",
    "    'crtfc_key': api_key,\n",
    "    'corp_code': corp_code,\n",
    "    'bgn_de': start_date,\n",
    "    'end_de': end_date,\n",
    "    'page_count': cnt\n",
    "}\n",
    "\n",
    "# 3. 요청 및 데이터 수신\n",
    "response = requests.get(url, params=paramsData) # params를 하면 params옵션을 넣으면 됨\n",
    "data = response.json()\n",
    "print(data.keys()) # 키값 확인하여서 필요한 자료만 다시 추출\n",
    " \n",
    "\n"
   ]
  },
  {
   "cell_type": "code",
   "execution_count": null,
   "id": "eaa0d051",
   "metadata": {},
   "outputs": [
    {
     "name": "stdout",
     "output_type": "stream",
     "text": [
      "100\n"
     ]
    },
    {
     "data": {
      "text/plain": [
       "{'corp_code': '00139214',\n",
       " 'corp_name': '삼성화재해상보험',\n",
       " 'stock_code': '000810',\n",
       " 'corp_cls': 'Y',\n",
       " 'report_nm': '기업설명회(IR)개최(안내공시)              ',\n",
       " 'rcept_no': '20250507800336',\n",
       " 'flr_nm': '삼성화재해상보험',\n",
       " 'rcept_dt': '20250507',\n",
       " 'rm': '유'}"
      ]
     },
     "metadata": {},
     "output_type": "display_data"
    }
   ],
   "source": [
    "# 위의 내용에 이어서\n",
    "print(len(data['list'])) #전체데이터 갯수 확인\n",
    "display(data['list'][0]) #첫번째 데이터 보기, ipynb파일은 display로도 가능"
   ]
  },
  {
   "cell_type": "code",
   "execution_count": null,
   "id": "f0faea7f",
   "metadata": {},
   "outputs": [],
   "source": [
    "# 위의 작업 이어서\n",
    "# 데이터 프레임으로 변경\n",
    "import pandas as pd\n",
    "df=pd.DataFrame(data['list'])\n",
    "df.head()  #5개자료 샘플만 보기"
   ]
  },
  {
   "cell_type": "code",
   "execution_count": null,
   "id": "80a36fd4",
   "metadata": {},
   "outputs": [],
   "source": [
    "# index옵션을 생략하면 가장 왼쪽에 번호필드가 한개 더 생김\n",
    "# 인코딩으로 한글 표현방법 설정가능(엑셀에서 보려면 utf-8로)\n",
    "df.to_csv('삼성화재.csv',encoding='utf-8', index=False)"
   ]
  }
 ],
 "metadata": {
  "kernelspec": {
   "display_name": "aa",
   "language": "python",
   "name": "python3"
  },
  "language_info": {
   "codemirror_mode": {
    "name": "ipython",
    "version": 3
   },
   "file_extension": ".py",
   "mimetype": "text/x-python",
   "name": "python",
   "nbconvert_exporter": "python",
   "pygments_lexer": "ipython3",
   "version": "3.12.2"
  }
 },
 "nbformat": 4,
 "nbformat_minor": 5
}
